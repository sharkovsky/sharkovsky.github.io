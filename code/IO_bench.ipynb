{
 "cells": [
  {
   "cell_type": "markdown",
   "metadata": {
    "colab_type": "text",
    "id": "qy-DXMGiU23y"
   },
   "source": [
    "# General imports"
   ]
  },
  {
   "cell_type": "code",
   "execution_count": 1,
   "metadata": {
    "colab": {},
    "colab_type": "code",
    "id": "QqsPIo0IUg_7"
   },
   "outputs": [],
   "source": [
    "import os\n",
    "import numpy as np\n",
    "import gc\n",
    "import requests\n",
    "from datetime import datetime"
   ]
  },
  {
   "cell_type": "code",
   "execution_count": 2,
   "metadata": {
    "colab": {},
    "colab_type": "code",
    "id": "8AS9b_-B6Fua"
   },
   "outputs": [],
   "source": [
    "ipinfo = requests.get('http://ipinfo.io')\n",
    "region = ipinfo.json()['country'] + ': ' + ipinfo.json()['region']"
   ]
  },
  {
   "cell_type": "code",
   "execution_count": 3,
   "metadata": {
    "colab": {
     "base_uri": "https://localhost:8080/",
     "height": 35
    },
    "colab_type": "code",
    "id": "Xna_QzPPJBb-",
    "outputId": "4e47769b-e89d-400b-d3c0-db9eb754007d"
   },
   "outputs": [
    {
     "name": "stdout",
     "output_type": "stream",
     "text": [
      "US: South Carolina\n"
     ]
    }
   ],
   "source": [
    "print(region)"
   ]
  },
  {
   "cell_type": "code",
   "execution_count": 4,
   "metadata": {
    "colab": {},
    "colab_type": "code",
    "id": "Cb6Xv4Ay8rkZ"
   },
   "outputs": [],
   "source": [
    "timestr = datetime.now().strftime('%Y-%m-%dT%H:%M:%S')"
   ]
  },
  {
   "cell_type": "code",
   "execution_count": 5,
   "metadata": {
    "colab": {
     "base_uri": "https://localhost:8080/",
     "height": 368
    },
    "colab_type": "code",
    "id": "swlFtzzEUhFj",
    "outputId": "ab31e8d3-923d-4cfb-fe2c-0ebfdbfae3be"
   },
   "outputs": [
    {
     "name": "stdout",
     "output_type": "stream",
     "text": [
      "Collecting line_profiler\n",
      "\u001b[?25l  Downloading https://files.pythonhosted.org/packages/d8/cc/4237472dd5c9a1a4079a89df7ba3d2924eed2696d68b91886743c728a9df/line_profiler-3.0.2-cp36-cp36m-manylinux2010_x86_64.whl (68kB)\n",
      "\r",
      "\u001b[K     |████▊                           | 10kB 14.8MB/s eta 0:00:01\r",
      "\u001b[K     |█████████▌                      | 20kB 1.8MB/s eta 0:00:01\r",
      "\u001b[K     |██████████████▎                 | 30kB 2.3MB/s eta 0:00:01\r",
      "\u001b[K     |███████████████████             | 40kB 2.6MB/s eta 0:00:01\r",
      "\u001b[K     |███████████████████████▉        | 51kB 2.1MB/s eta 0:00:01\r",
      "\u001b[K     |████████████████████████████▋   | 61kB 2.3MB/s eta 0:00:01\r",
      "\u001b[K     |████████████████████████████████| 71kB 1.9MB/s \n",
      "\u001b[?25hRequirement already satisfied: IPython in /usr/local/lib/python3.6/dist-packages (from line_profiler) (5.5.0)\n",
      "Requirement already satisfied: decorator in /usr/local/lib/python3.6/dist-packages (from IPython->line_profiler) (4.4.2)\n",
      "Requirement already satisfied: pickleshare in /usr/local/lib/python3.6/dist-packages (from IPython->line_profiler) (0.7.5)\n",
      "Requirement already satisfied: prompt-toolkit<2.0.0,>=1.0.4 in /usr/local/lib/python3.6/dist-packages (from IPython->line_profiler) (1.0.18)\n",
      "Requirement already satisfied: traitlets>=4.2 in /usr/local/lib/python3.6/dist-packages (from IPython->line_profiler) (4.3.3)\n",
      "Requirement already satisfied: pygments in /usr/local/lib/python3.6/dist-packages (from IPython->line_profiler) (2.6.1)\n",
      "Requirement already satisfied: pexpect; sys_platform != \"win32\" in /usr/local/lib/python3.6/dist-packages (from IPython->line_profiler) (4.8.0)\n",
      "Requirement already satisfied: setuptools>=18.5 in /usr/local/lib/python3.6/dist-packages (from IPython->line_profiler) (50.3.0)\n",
      "Requirement already satisfied: simplegeneric>0.8 in /usr/local/lib/python3.6/dist-packages (from IPython->line_profiler) (0.8.1)\n",
      "Requirement already satisfied: wcwidth in /usr/local/lib/python3.6/dist-packages (from prompt-toolkit<2.0.0,>=1.0.4->IPython->line_profiler) (0.2.5)\n",
      "Requirement already satisfied: six>=1.9.0 in /usr/local/lib/python3.6/dist-packages (from prompt-toolkit<2.0.0,>=1.0.4->IPython->line_profiler) (1.15.0)\n",
      "Requirement already satisfied: ipython-genutils in /usr/local/lib/python3.6/dist-packages (from traitlets>=4.2->IPython->line_profiler) (0.2.0)\n",
      "Requirement already satisfied: ptyprocess>=0.5 in /usr/local/lib/python3.6/dist-packages (from pexpect; sys_platform != \"win32\"->IPython->line_profiler) (0.6.0)\n",
      "Installing collected packages: line-profiler\n",
      "Successfully installed line-profiler-3.0.2\n"
     ]
    }
   ],
   "source": [
    "!pip install line_profiler"
   ]
  },
  {
   "cell_type": "code",
   "execution_count": 6,
   "metadata": {
    "colab": {},
    "colab_type": "code",
    "id": "mHaUeIHJUhLX"
   },
   "outputs": [],
   "source": [
    "%load_ext line_profiler"
   ]
  },
  {
   "cell_type": "markdown",
   "metadata": {
    "colab_type": "text",
    "id": "hUi9goJbU7HW"
   },
   "source": [
    "# Profiling"
   ]
  },
  {
   "cell_type": "markdown",
   "metadata": {
    "colab_type": "text",
    "id": "FbGoOK5ZVWuo"
   },
   "source": [
    "## Google Drive"
   ]
  },
  {
   "cell_type": "code",
   "execution_count": 7,
   "metadata": {
    "colab": {},
    "colab_type": "code",
    "id": "niN2EsKkUO0g"
   },
   "outputs": [],
   "source": [
    "from google.colab import drive"
   ]
  },
  {
   "cell_type": "code",
   "execution_count": 8,
   "metadata": {
    "colab": {
     "base_uri": "https://localhost:8080/",
     "height": 35
    },
    "colab_type": "code",
    "id": "IBs01Hp5UZmO",
    "outputId": "4ce70a18-02d9-406f-dd43-04ea5c524782"
   },
   "outputs": [
    {
     "name": "stdout",
     "output_type": "stream",
     "text": [
      "Mounted at /content/gdrive\n"
     ]
    }
   ],
   "source": [
    "drive.mount('/content/gdrive')"
   ]
  },
  {
   "cell_type": "markdown",
   "metadata": {
    "colab_type": "text",
    "id": "rNEgvyl2WMbN"
   },
   "source": [
    "Create directory to store profiling output"
   ]
  },
  {
   "cell_type": "code",
   "execution_count": 11,
   "metadata": {
    "colab": {},
    "colab_type": "code",
    "id": "_z_p7EYFWLqe"
   },
   "outputs": [],
   "source": [
    "profiling_output_dir_path = '/content/gdrive/My Drive/ML_data/IO_profiling_output'\n",
    "if not os.path.exists(profiling_output_dir_path): os.makedirs(profiling_output_dir_path)"
   ]
  },
  {
   "cell_type": "code",
   "execution_count": 12,
   "metadata": {
    "colab": {},
    "colab_type": "code",
    "id": "gZPl5I1WbWcH"
   },
   "outputs": [],
   "source": [
    "os.chdir(profiling_output_dir_path)\n",
    "with open('region.txt', 'w') as f:\n",
    "  f.write(region)\n",
    "with open('time.txt', 'w') as f:\n",
    "  f.write(timestr)"
   ]
  },
  {
   "cell_type": "markdown",
   "metadata": {
    "colab_type": "text",
    "id": "rpTrUVks7NDB"
   },
   "source": [
    "Start profiling"
   ]
  },
  {
   "cell_type": "code",
   "execution_count": 13,
   "metadata": {
    "colab": {
     "base_uri": "https://localhost:8080/",
     "height": 54
    },
    "colab_type": "code",
    "id": "FYL6ZSljUvRs",
    "outputId": "81cb7bd8-072e-4bf0-c800-41f8ad4eca2f"
   },
   "outputs": [
    {
     "name": "stdout",
     "output_type": "stream",
     "text": [
      "The slowest run took 1989.06 times longer than the fastest. This could mean that an intermediate result is being cached.\n",
      "1 loop, best of 3: 9.95 ms per loop\n"
     ]
    }
   ],
   "source": [
    "%%timeit\n",
    "retry = True\n",
    "while retry:\n",
    "  retry=False\n",
    "  try:\n",
    "    next(os.walk('/content/gdrive/My Drive/ML_data/snakes/valid/venomous'))\n",
    "  except StopIteration:\n",
    "    print('Exception Raised. Retry')\n",
    "    retry = True"
   ]
  },
  {
   "cell_type": "code",
   "execution_count": 14,
   "metadata": {
    "colab": {},
    "colab_type": "code",
    "id": "jqr0bSxshwAD"
   },
   "outputs": [],
   "source": [
    "def test_from_gdrive(N, offset=0):\n",
    "  images = os.listdir('/content/gdrive/My Drive/ML_data/snakes/valid/venomous')\n",
    "  for i in range(offset,offset+N):\n",
    "    filename = images[i]\n",
    "    path = '/content/gdrive/My Drive/ML_data/snakes/valid/venomous/' + filename\n",
    "    with open(path, 'rb') as f:\n",
    "      f.seek(0,2)\n",
    "      length_of_file = f.tell()\n",
    "      f.seek(0,0)\n",
    "      content = f.read(length_of_file)"
   ]
  },
  {
   "cell_type": "code",
   "execution_count": 15,
   "metadata": {
    "colab": {
     "base_uri": "https://localhost:8080/",
     "height": 458
    },
    "colab_type": "code",
    "id": "bQkijvz6h34H",
    "outputId": "bf92cda1-a395-4775-9909-f79d18756212"
   },
   "outputs": [
    {
     "name": "stdout",
     "output_type": "stream",
     "text": [
      "\n",
      "*** Profile printout saved to text file 'test_from_gdrive_0_t0.csv'. \n",
      "\n",
      "*** Profile printout saved to text file 'test_from_gdrive_50_t0.csv'. \n",
      "\n",
      "*** Profile printout saved to text file 'test_from_gdrive_100_t0.csv'. \n",
      "\n",
      "*** Profile printout saved to text file 'test_from_gdrive_150_t0.csv'. \n",
      "\n",
      "*** Profile printout saved to text file 'test_from_gdrive_200_t0.csv'. \n",
      "\n",
      "*** Profile printout saved to text file 'test_from_gdrive_250_t0.csv'. \n",
      "\n",
      "*** Profile printout saved to text file 'test_from_gdrive_300_t0.csv'. \n",
      "\n",
      "*** Profile printout saved to text file 'test_from_gdrive_350_t0.csv'. \n",
      "\n",
      "*** Profile printout saved to text file 'test_from_gdrive_400_t0.csv'. \n",
      "\n",
      "*** Profile printout saved to text file 'test_from_gdrive_450_t0.csv'. \n",
      "\n",
      "*** Profile printout saved to text file 'test_from_gdrive_500_t0.csv'. \n",
      "\n",
      "*** Profile printout saved to text file 'test_from_gdrive_550_t0.csv'. \n"
     ]
    }
   ],
   "source": [
    "%lprun -T test_from_gdrive_0_t0.csv -f test_from_gdrive test_from_gdrive(50,offset=0)\n",
    "%lprun -T test_from_gdrive_50_t0.csv -f test_from_gdrive test_from_gdrive(50,offset=50)\n",
    "%lprun -T test_from_gdrive_100_t0.csv -f test_from_gdrive test_from_gdrive(50,offset=100)\n",
    "%lprun -T test_from_gdrive_150_t0.csv -f test_from_gdrive test_from_gdrive(50,offset=150)\n",
    "%lprun -T test_from_gdrive_200_t0.csv -f test_from_gdrive test_from_gdrive(50,offset=200)\n",
    "%lprun -T test_from_gdrive_250_t0.csv -f test_from_gdrive test_from_gdrive(50,offset=250)\n",
    "%lprun -T test_from_gdrive_300_t0.csv -f test_from_gdrive test_from_gdrive(50,offset=300)\n",
    "%lprun -T test_from_gdrive_350_t0.csv -f test_from_gdrive test_from_gdrive(50,offset=350)\n",
    "%lprun -T test_from_gdrive_400_t0.csv -f test_from_gdrive test_from_gdrive(50,offset=400)\n",
    "%lprun -T test_from_gdrive_450_t0.csv -f test_from_gdrive test_from_gdrive(50,offset=450)\n",
    "%lprun -T test_from_gdrive_500_t0.csv -f test_from_gdrive test_from_gdrive(50,offset=500)\n",
    "%lprun -T test_from_gdrive_550_t0.csv -f test_from_gdrive test_from_gdrive(50,offset=550)"
   ]
  },
  {
   "cell_type": "markdown",
   "metadata": {
    "colab_type": "text",
    "id": "35MpbMqZVZF1"
   },
   "source": [
    "## Google Cloud Storage API"
   ]
  },
  {
   "cell_type": "code",
   "execution_count": 10,
   "metadata": {
    "colab": {},
    "colab_type": "code",
    "id": "m1CO531ZUfCM"
   },
   "outputs": [],
   "source": [
    "from google.colab import auth\n",
    "auth.authenticate_user()"
   ]
  },
  {
   "cell_type": "code",
   "execution_count": 16,
   "metadata": {
    "colab": {},
    "colab_type": "code",
    "id": "R05j7a3xUojK"
   },
   "outputs": [],
   "source": [
    "from google.cloud import storage"
   ]
  },
  {
   "cell_type": "code",
   "execution_count": 17,
   "metadata": {
    "colab": {},
    "colab_type": "code",
    "id": "azwIzKjWYsQj"
   },
   "outputs": [],
   "source": [
    "client = storage.Client(project='ml-self-learning-project')"
   ]
  },
  {
   "cell_type": "code",
   "execution_count": 18,
   "metadata": {
    "colab": {},
    "colab_type": "code",
    "id": "uZ7eqvBjYsXF"
   },
   "outputs": [],
   "source": [
    "bucket = client.get_bucket('ml_datasets_checco_1')"
   ]
  },
  {
   "cell_type": "code",
   "execution_count": 19,
   "metadata": {
    "colab": {},
    "colab_type": "code",
    "id": "6ElD6WbnUorH"
   },
   "outputs": [],
   "source": [
    "if not os.path.exists('/content/gcs-api/snakes/valid/venomous'): os.makedirs('/content/gcs-api/snakes/valid/venomous')\n",
    "if not os.path.exists('/content/gcs-api/snakes/valid/non_venomous'): os.makedirs('/content/gcs-api/snakes/valid/non_venomous')"
   ]
  },
  {
   "cell_type": "code",
   "execution_count": 20,
   "metadata": {
    "colab": {},
    "colab_type": "code",
    "id": "jY82_wfCYIeN"
   },
   "outputs": [],
   "source": [
    "def test_from_storage_api(N, offset=0):\n",
    "  i=0\n",
    "  for b in client.list_blobs('ml_datasets_checco_1'):\n",
    "    i += 1\n",
    "    if i <= offset:\n",
    "      continue\n",
    "    if i >=N+offset+1:\n",
    "      break\n",
    "    filepath = '/content/gcs-api/'+ '/'.join(b.name.split('/')[-4:])\n",
    "    b.download_to_filename(filepath)"
   ]
  },
  {
   "cell_type": "code",
   "execution_count": 21,
   "metadata": {
    "cellView": "both",
    "colab": {
     "base_uri": "https://localhost:8080/",
     "height": 458
    },
    "colab_type": "code",
    "id": "ktzQTeLFYP2l",
    "outputId": "0a4dde33-6892-46dd-8e30-78f5571d11db"
   },
   "outputs": [
    {
     "name": "stdout",
     "output_type": "stream",
     "text": [
      "\n",
      "*** Profile printout saved to text file 'test_from_storage_api_0_t0.csv'. \n",
      "\n",
      "*** Profile printout saved to text file 'test_from_storage_api_50_t0.csv'. \n",
      "\n",
      "*** Profile printout saved to text file 'test_from_storage_api_100_t0.csv'. \n",
      "\n",
      "*** Profile printout saved to text file 'test_from_storage_api_150_t0.csv'. \n",
      "\n",
      "*** Profile printout saved to text file 'test_from_storage_api_200_t0.csv'. \n",
      "\n",
      "*** Profile printout saved to text file 'test_from_storage_api_250_t0.csv'. \n",
      "\n",
      "*** Profile printout saved to text file 'test_from_storage_api_300_t0.csv'. \n",
      "\n",
      "*** Profile printout saved to text file 'test_from_storage_api_350_t0.csv'. \n",
      "\n",
      "*** Profile printout saved to text file 'test_from_storage_api_400_t0.csv'. \n",
      "\n",
      "*** Profile printout saved to text file 'test_from_storage_api_450_t0.csv'. \n",
      "\n",
      "*** Profile printout saved to text file 'test_from_storage_api_500_t0.csv'. \n",
      "\n",
      "*** Profile printout saved to text file 'test_from_storage_api_550_t0.csv'. \n"
     ]
    }
   ],
   "source": [
    "%lprun -T test_from_storage_api_0_t0.csv -f test_from_storage_api test_from_storage_api(50,offset=0)\n",
    "%lprun -T test_from_storage_api_50_t0.csv -f test_from_storage_api test_from_storage_api(50,offset=50)\n",
    "%lprun -T test_from_storage_api_100_t0.csv -f test_from_storage_api test_from_storage_api(50,offset=100)\n",
    "%lprun -T test_from_storage_api_150_t0.csv -f test_from_storage_api test_from_storage_api(50,offset=150)\n",
    "%lprun -T test_from_storage_api_200_t0.csv -f test_from_storage_api test_from_storage_api(50,offset=200)\n",
    "%lprun -T test_from_storage_api_250_t0.csv -f test_from_storage_api test_from_storage_api(50,offset=250)\n",
    "%lprun -T test_from_storage_api_300_t0.csv -f test_from_storage_api test_from_storage_api(50,offset=300)\n",
    "%lprun -T test_from_storage_api_350_t0.csv -f test_from_storage_api test_from_storage_api(50,offset=350)\n",
    "%lprun -T test_from_storage_api_400_t0.csv -f test_from_storage_api test_from_storage_api(50,offset=400)\n",
    "%lprun -T test_from_storage_api_450_t0.csv -f test_from_storage_api test_from_storage_api(50,offset=450)\n",
    "%lprun -T test_from_storage_api_500_t0.csv -f test_from_storage_api test_from_storage_api(50,offset=500)\n",
    "%lprun -T test_from_storage_api_550_t0.csv -f test_from_storage_api test_from_storage_api(50,offset=550)"
   ]
  },
  {
   "cell_type": "markdown",
   "metadata": {
    "colab_type": "text",
    "id": "PumD-44PVeAl"
   },
   "source": [
    "## GCSFUSE"
   ]
  },
  {
   "cell_type": "code",
   "execution_count": null,
   "metadata": {
    "colab": {},
    "colab_type": "code",
    "id": "N0khC9AGV6Ul"
   },
   "outputs": [],
   "source": [
    "from google.colab import auth\n",
    "auth.authenticate_user()"
   ]
  },
  {
   "cell_type": "code",
   "execution_count": 22,
   "metadata": {
    "colab": {
     "base_uri": "https://localhost:8080/",
     "height": 293
    },
    "colab_type": "code",
    "id": "xMN5hh6iUg51",
    "outputId": "a5bf1754-3545-4c8f-c668-fdfc230b44ce"
   },
   "outputs": [
    {
     "name": "stdout",
     "output_type": "stream",
     "text": [
      "  % Total    % Received % Xferd  Average Speed   Time    Time     Time  Current\n",
      "                                 Dload  Upload   Total   Spent    Left  Speed\n",
      "\r",
      "  0     0    0     0    0     0      0      0 --:--:-- --:--:-- --:--:--     0\r",
      "100   653  100   653    0     0  14511      0 --:--:-- --:--:-- --:--:-- 14840\n",
      "OK\n",
      "36 packages can be upgraded. Run 'apt list --upgradable' to see them.\n",
      "The following NEW packages will be installed:\n",
      "  gcsfuse\n",
      "0 upgraded, 1 newly installed, 0 to remove and 36 not upgraded.\n",
      "Need to get 4,278 kB of archives.\n",
      "After this operation, 12.8 MB of additional disk space will be used.\n",
      "Selecting previously unselected package gcsfuse.\n",
      "(Reading database ... 144676 files and directories currently installed.)\n",
      "Preparing to unpack .../gcsfuse_0.30.0_amd64.deb ...\n",
      "Unpacking gcsfuse (0.30.0) ...\n",
      "Setting up gcsfuse (0.30.0) ...\n"
     ]
    }
   ],
   "source": [
    "!echo \"deb http://packages.cloud.google.com/apt gcsfuse-bionic main\" > /etc/apt/sources.list.d/gcsfuse.list\n",
    "!curl https://packages.cloud.google.com/apt/doc/apt-key.gpg | apt-key add -\n",
    "!apt -qq update\n",
    "!apt -qq install gcsfuse"
   ]
  },
  {
   "cell_type": "code",
   "execution_count": 23,
   "metadata": {
    "colab": {},
    "colab_type": "code",
    "id": "abt3qlN1Uwbg"
   },
   "outputs": [],
   "source": [
    "os.makedirs('/content/bucket-data')"
   ]
  },
  {
   "cell_type": "code",
   "execution_count": 24,
   "metadata": {
    "colab": {},
    "colab_type": "code",
    "id": "hpsnork8h5Hf"
   },
   "outputs": [],
   "source": [
    "os.chdir('/content')"
   ]
  },
  {
   "cell_type": "code",
   "execution_count": 25,
   "metadata": {
    "colab": {
     "base_uri": "https://localhost:8080/",
     "height": 109
    },
    "colab_type": "code",
    "id": "9ueBL1naY8qY",
    "outputId": "de19fea1-2c67-4ebf-9c6d-5b2b7403858a"
   },
   "outputs": [
    {
     "name": "stdout",
     "output_type": "stream",
     "text": [
      "Using mount point: /content/bucket-data\n",
      "Opening GCS connection...\n",
      "Opening bucket...\n",
      "Mounting file system...\n",
      "File system has been successfully mounted.\n"
     ]
    }
   ],
   "source": [
    "!gcsfuse --implicit-dirs ml_datasets_checco_1 bucket-data\n",
    "#!gcsfuse --implicit-dirs --stat-cache-ttl 5h --type-cache-ttl 5h --stat-cache-capacity 65536 ml_datasets_checco_1 bucket-data"
   ]
  },
  {
   "cell_type": "code",
   "execution_count": 26,
   "metadata": {
    "colab": {},
    "colab_type": "code",
    "id": "rCBZNPxZh-Bd"
   },
   "outputs": [],
   "source": [
    "os.chdir(profiling_output_dir_path)"
   ]
  },
  {
   "cell_type": "code",
   "execution_count": 27,
   "metadata": {
    "colab": {
     "base_uri": "https://localhost:8080/",
     "height": 35
    },
    "colab_type": "code",
    "id": "SzDE3E2IcBl0",
    "outputId": "cd6843ac-052d-4794-cb12-3d59b5bccffd"
   },
   "outputs": [
    {
     "name": "stdout",
     "output_type": "stream",
     "text": [
      "1 loop, best of 3: 3.56 s per loop\n"
     ]
    }
   ],
   "source": [
    "%%timeit\n",
    "retry = True\n",
    "while retry:\n",
    "  retry=False\n",
    "  try:\n",
    "    next(os.walk('/content/bucket-data/aicrowd-blitz-challenge/snakes/valid/venomous'))\n",
    "  except StopIteration:\n",
    "    print('Exception Raised. Retry')\n",
    "    retry = True"
   ]
  },
  {
   "cell_type": "code",
   "execution_count": 28,
   "metadata": {
    "colab": {},
    "colab_type": "code",
    "id": "jvkJwnr3Uw0R"
   },
   "outputs": [],
   "source": [
    "def test_from_gcsfuse(N, offset=0):\n",
    "  images = os.listdir('/content/bucket-data/aicrowd-blitz-challenge/snakes/valid/venomous')\n",
    "  for i in range(offset,offset+N):\n",
    "    filename = images[i]\n",
    "    path = '/content/bucket-data/aicrowd-blitz-challenge/snakes/valid/venomous/' + filename\n",
    "    with open(path, 'rb') as f:\n",
    "      f.seek(0,2)\n",
    "      length_of_file = f.tell()\n",
    "      f.seek(0,0)\n",
    "      content = f.read(length_of_file)"
   ]
  },
  {
   "cell_type": "code",
   "execution_count": null,
   "metadata": {
    "colab": {
     "base_uri": "https://localhost:8080/",
     "height": 54
    },
    "colab_type": "code",
    "id": "FvKwW9dlUw48",
    "outputId": "c7be2c7c-4fb3-4b3a-b63b-6f6aa087c3fb"
   },
   "outputs": [
    {
     "name": "stdout",
     "output_type": "stream",
     "text": [
      "\n",
      "*** Profile printout saved to text file 'test_from_gcsfuse_0_t0.csv'. \n"
     ]
    }
   ],
   "source": [
    "%lprun -T test_from_gcsfuse_0_t0.csv -f test_from_gcsfuse test_from_gcsfuse(50,offset=0)\n",
    "%lprun -T test_from_gcsfuse_50_t0.csv -f test_from_gcsfuse test_from_gcsfuse(50,offset=50)\n",
    "%lprun -T test_from_gcsfuse_100_t0.csv -f test_from_gcsfuse test_from_gcsfuse(50,offset=100)\n",
    "%lprun -T test_from_gcsfuse_150_t0.csv -f test_from_gcsfuse test_from_gcsfuse(50,offset=150)\n",
    "%lprun -T test_from_gcsfuse_200_t0.csv -f test_from_gcsfuse test_from_gcsfuse(50,offset=200)\n",
    "%lprun -T test_from_gcsfuse_250_t0.csv -f test_from_gcsfuse test_from_gcsfuse(50,offset=250)\n",
    "%lprun -T test_from_gcsfuse_300_t0.csv -f test_from_gcsfuse test_from_gcsfuse(50,offset=300)\n",
    "%lprun -T test_from_gcsfuse_350_t0.csv -f test_from_gcsfuse test_from_gcsfuse(50,offset=350)\n",
    "%lprun -T test_from_gcsfuse_400_t0.csv -f test_from_gcsfuse test_from_gcsfuse(50,offset=400)\n",
    "%lprun -T test_from_gcsfuse_450_t0.csv -f test_from_gcsfuse test_from_gcsfuse(50,offset=450)\n",
    "%lprun -T test_from_gcsfuse_500_t0.csv -f test_from_gcsfuse test_from_gcsfuse(50,offset=500)\n",
    "%lprun -T test_from_gcsfuse_550_t0.csv -f test_from_gcsfuse test_from_gcsfuse(50,offset=550)"
   ]
  },
  {
   "cell_type": "markdown",
   "metadata": {
    "colab_type": "text",
    "id": "UylqEN0yZbw6"
   },
   "source": [
    "# Test reading second time"
   ]
  },
  {
   "cell_type": "code",
   "execution_count": null,
   "metadata": {
    "colab": {},
    "colab_type": "code",
    "id": "dejaTvQGZo4O"
   },
   "outputs": [],
   "source": [
    "gc.collect()"
   ]
  },
  {
   "cell_type": "code",
   "execution_count": null,
   "metadata": {
    "colab": {},
    "colab_type": "code",
    "id": "CloTgGF_Xrf7"
   },
   "outputs": [],
   "source": [
    "zz = np.ones(shape=(40000,35000), dtype=np.float64)"
   ]
  },
  {
   "cell_type": "code",
   "execution_count": null,
   "metadata": {
    "colab": {},
    "colab_type": "code",
    "id": "jt4VSfGLXsU6"
   },
   "outputs": [],
   "source": [
    "del zz\n",
    "gc.collect()"
   ]
  },
  {
   "cell_type": "code",
   "execution_count": null,
   "metadata": {
    "colab": {},
    "colab_type": "code",
    "id": "-9oYY6mWWLya"
   },
   "outputs": [],
   "source": [
    "%lprun -T test_from_gdrive_0_t1.csv -f test_from_gdrive test_from_gdrive(50,offset=0)\n",
    "%lprun -T test_from_gdrive_50_t1.csv -f test_from_gdrive test_from_gdrive(50,offset=50)\n",
    "%lprun -T test_from_gdrive_100_t1.csv -f test_from_gdrive test_from_gdrive(50,offset=100)\n",
    "%lprun -T test_from_gdrive_150_t1.csv -f test_from_gdrive test_from_gdrive(50,offset=150)\n",
    "%lprun -T test_from_gdrive_200_t1.csv -f test_from_gdrive test_from_gdrive(50,offset=200)\n",
    "%lprun -T test_from_gdrive_250_t1.csv -f test_from_gdrive test_from_gdrive(50,offset=250)\n",
    "%lprun -T test_from_gdrive_300_t1.csv -f test_from_gdrive test_from_gdrive(50,offset=300)\n",
    "%lprun -T test_from_gdrive_350_t1.csv -f test_from_gdrive test_from_gdrive(50,offset=350)\n",
    "%lprun -T test_from_gdrive_400_t1.csv -f test_from_gdrive test_from_gdrive(50,offset=400)\n",
    "%lprun -T test_from_gdrive_450_t1.csv -f test_from_gdrive test_from_gdrive(50,offset=450)\n",
    "%lprun -T test_from_gdrive_500_t1.csv -f test_from_gdrive test_from_gdrive(50,offset=500)\n",
    "%lprun -T test_from_gdrive_550_t1.csv -f test_from_gdrive test_from_gdrive(50,offset=550)"
   ]
  },
  {
   "cell_type": "code",
   "execution_count": null,
   "metadata": {
    "colab": {},
    "colab_type": "code",
    "id": "dHSlBNaOY1Rc"
   },
   "outputs": [],
   "source": [
    "def read_from_storage_api(N, offset=0):\n",
    "  i=0\n",
    "  for b in client.list_blobs('ml_datasets_checco_1'):\n",
    "    i += 1\n",
    "    if i <= offset:\n",
    "      continue\n",
    "    if i >=N+offset+1:\n",
    "      break\n",
    "    filepath = '/content/gcs-api/'+ '/'.join(b.name.split('/')[-4:])\n",
    "    with open(filepath, 'rb') as f:\n",
    "      f.seek(0,2)\n",
    "      length_of_file = f.tell()\n",
    "      f.seek(0,0)\n",
    "      content = f.read(length_of_file)"
   ]
  },
  {
   "cell_type": "code",
   "execution_count": null,
   "metadata": {
    "colab": {},
    "colab_type": "code",
    "id": "kNmc9gypZyri"
   },
   "outputs": [],
   "source": [
    "%lprun -T test_from_storage_api_0_t1.csv -f read_from_storage_api read_from_storage_api(50,offset=0)\n",
    "%lprun -T test_from_storage_api_50_t1.csv -f read_from_storage_api read_from_storage_api(50,offset=50)\n",
    "%lprun -T test_from_storage_api_100_t1.csv -f read_from_storage_api read_from_storage_api(50,offset=100)\n",
    "%lprun -T test_from_storage_api_150_t1.csv -f read_from_storage_api read_from_storage_api(50,offset=150)\n",
    "%lprun -T test_from_storage_api_200_t1.csv -f read_from_storage_api read_from_storage_api(50,offset=200)\n",
    "%lprun -T test_from_storage_api_250_t1.csv -f read_from_storage_api read_from_storage_api(50,offset=250)\n",
    "%lprun -T test_from_storage_api_300_t1.csv -f read_from_storage_api read_from_storage_api(50,offset=300)\n",
    "%lprun -T test_from_storage_api_350_t1.csv -f read_from_storage_api read_from_storage_api(50,offset=350)\n",
    "%lprun -T test_from_storage_api_400_t1.csv -f read_from_storage_api read_from_storage_api(50,offset=400)\n",
    "%lprun -T test_from_storage_api_450_t1.csv -f read_from_storage_api read_from_storage_api(50,offset=450)\n",
    "%lprun -T test_from_storage_api_500_t1.csv -f read_from_storage_api read_from_storage_api(50,offset=500)\n",
    "%lprun -T test_from_storage_api_550_t1.csv -f read_from_storage_api read_from_storage_api(50,offset=550)"
   ]
  },
  {
   "cell_type": "code",
   "execution_count": null,
   "metadata": {
    "colab": {},
    "colab_type": "code",
    "id": "ZGI9lm3wZyxy"
   },
   "outputs": [],
   "source": [
    "%lprun -T test_from_gcsfuse_0_t1.csv -f test_from_gcsfuse test_from_gcsfuse(50,offset=0)\n",
    "%lprun -T test_from_gcsfuse_50_t1.csv -f test_from_gcsfuse test_from_gcsfuse(50,offset=50)\n",
    "%lprun -T test_from_gcsfuse_100_t1.csv -f test_from_gcsfuse test_from_gcsfuse(50,offset=100)\n",
    "%lprun -T test_from_gcsfuse_150_t1.csv -f test_from_gcsfuse test_from_gcsfuse(50,offset=150)\n",
    "%lprun -T test_from_gcsfuse_200_t1.csv -f test_from_gcsfuse test_from_gcsfuse(50,offset=200)\n",
    "%lprun -T test_from_gcsfuse_250_t1.csv -f test_from_gcsfuse test_from_gcsfuse(50,offset=250)\n",
    "%lprun -T test_from_gcsfuse_300_t1.csv -f test_from_gcsfuse test_from_gcsfuse(50,offset=300)\n",
    "%lprun -T test_from_gcsfuse_350_t1.csv -f test_from_gcsfuse test_from_gcsfuse(50,offset=350)\n",
    "%lprun -T test_from_gcsfuse_400_t1.csv -f test_from_gcsfuse test_from_gcsfuse(50,offset=400)\n",
    "%lprun -T test_from_gcsfuse_450_t1.csv -f test_from_gcsfuse test_from_gcsfuse(50,offset=450)\n",
    "%lprun -T test_from_gcsfuse_500_t1.csv -f test_from_gcsfuse test_from_gcsfuse(50,offset=500)\n",
    "%lprun -T test_from_gcsfuse_550_t1.csv -f test_from_gcsfuse test_from_gcsfuse(50,offset=550)"
   ]
  },
  {
   "cell_type": "code",
   "execution_count": null,
   "metadata": {
    "colab": {},
    "colab_type": "code",
    "id": "D5HljUYwY1Xs"
   },
   "outputs": [],
   "source": []
  },
  {
   "cell_type": "markdown",
   "metadata": {
    "colab_type": "text",
    "id": "CmsdcLh_fmVr"
   },
   "source": [
    "# Analysis"
   ]
  },
  {
   "cell_type": "code",
   "execution_count": null,
   "metadata": {
    "colab": {},
    "colab_type": "code",
    "id": "YKQv6yRJY1eD"
   },
   "outputs": [],
   "source": [
    "!ls \"/content/gdrive/My Drive/ML_data/IO_profiling_output\""
   ]
  },
  {
   "cell_type": "code",
   "execution_count": null,
   "metadata": {
    "colab": {},
    "colab_type": "code",
    "id": "31uV4MPfkB94"
   },
   "outputs": [],
   "source": [
    "!pip install -U seaborn"
   ]
  },
  {
   "cell_type": "code",
   "execution_count": null,
   "metadata": {
    "colab": {},
    "colab_type": "code",
    "id": "OOJrnupFfkGM"
   },
   "outputs": [],
   "source": [
    "import seaborn as sns"
   ]
  },
  {
   "cell_type": "code",
   "execution_count": null,
   "metadata": {
    "colab": {},
    "colab_type": "code",
    "id": "-e3NtRSPaaER"
   },
   "outputs": [],
   "source": [
    "import pandas as pd"
   ]
  },
  {
   "cell_type": "code",
   "execution_count": null,
   "metadata": {
    "colab": {},
    "colab_type": "code",
    "id": "_mokzCI6fj_A"
   },
   "outputs": [],
   "source": [
    "def parse(strategy='gdrive'):\n",
    "  file_opening = list()\n",
    "  file_reading = list()\n",
    "  total = list()\n",
    "  runtime_type = list()\n",
    "  for folder_name in ['IO_profiling_output', 'IO_profiling_output_fifth', 'IO_profiling_output_fourth', 'IO_profiling_output_first', 'IO_profiling_output_second_gpu', 'IO_profiling_output_third_gpu']:\n",
    "    for offset in range(0,551,50):\n",
    "      filename = '/content/gdrive/My Drive/ML_data/'+ folder_name + '/test_from_'+ strategy + '_' + str(offset) + '_t0.csv'\n",
    "      with open(filename) as f:\n",
    "        lines = f.readlines()\n",
    "      file_opening.append(\n",
    "          float([x for x in lines if 'with open' in x][0].split()[3])\n",
    "      )\n",
    "      file_reading.append(\n",
    "          float([x for x in lines if 'content =' in x][0].split()[3])\n",
    "      )\n",
    "      total.append(\n",
    "          float([x for x in lines if 'Total time' in x][0].split()[2])\n",
    "      )\n",
    "      rt_type = 'gpu' if 'gpu' in folder_name else 'cpu'\n",
    "      runtime_type.append(rt_type)\n",
    "  return file_opening, file_reading, total, runtime_type"
   ]
  },
  {
   "cell_type": "code",
   "execution_count": null,
   "metadata": {
    "colab": {},
    "colab_type": "code",
    "id": "ObU2QaY5mZLL"
   },
   "outputs": [],
   "source": [
    "def parse_storage_api():\n",
    "  file_opening = list()\n",
    "  file_reading = list()\n",
    "  total = list()\n",
    "  runtime_type = list()\n",
    "  for folder_name in ['IO_profiling_output', 'IO_profiling_output_fifth', 'IO_profiling_output_fourth', 'IO_profiling_output_first', 'IO_profiling_output_second_gpu', 'IO_profiling_output_third_gpu']:\n",
    "    for offset in range(0,551,50):\n",
    "      filename = '/content/gdrive/My Drive/ML_data/' + folder_name + '/test_from_storage_api_' + str(offset) + '_t0.csv'\n",
    "      with open(filename) as f:\n",
    "        lines = f.readlines()\n",
    "      file_opening.append(\n",
    "          float([x for x in lines if 'list_blobs' in x][0].split()[3])\n",
    "      )\n",
    "      file_reading.append(\n",
    "          float([x for x in lines if 'download_to_filename' in x][0].split()[3])\n",
    "      )\n",
    "      total.append(\n",
    "          float([x for x in lines if 'Total time' in x][0].split()[2])\n",
    "      )\n",
    "      rt_type = 'gpu' if 'gpu' in folder_name else 'cpu'\n",
    "      runtime_type.append(rt_type)\n",
    "  return file_opening, file_reading, total, runtime_type"
   ]
  },
  {
   "cell_type": "code",
   "execution_count": null,
   "metadata": {
    "colab": {},
    "colab_type": "code",
    "id": "t0NuM8LzjTDD"
   },
   "outputs": [],
   "source": [
    "gdrive_opening, gdrive_reading, gdrive_total, gdrive_rt = parse('gdrive')\n",
    "strategy = ['gdrive']*len(gdrive_opening)\n",
    "fuse_opening, fuse_reading, fuse_total, fuse_rt = parse('gcsfuse')\n",
    "strategy.extend(['gcsfuse']*len(fuse_opening))\n",
    "api_opening, api_reading, api_total, api_rt = parse_storage_api()\n",
    "strategy.extend(['api']*len(api_opening))\n",
    "\n",
    "data = pd.DataFrame(\n",
    "    dict(\n",
    "         strategy=strategy,\n",
    "         opening=gdrive_opening + fuse_opening + api_opening,\n",
    "         reading=gdrive_reading + fuse_reading + api_reading,\n",
    "         total=gdrive_total + fuse_total + api_total,\n",
    "         runtime_type=gdrive_rt + fuse_rt + api_rt,\n",
    "    )\n",
    ")"
   ]
  },
  {
   "cell_type": "code",
   "execution_count": null,
   "metadata": {
    "colab": {},
    "colab_type": "code",
    "id": "0o_vrmPwlDgy"
   },
   "outputs": [],
   "source": [
    "sns.histplot(data, x='opening', bins=50, hue='strategy')"
   ]
  },
  {
   "cell_type": "code",
   "execution_count": null,
   "metadata": {
    "colab": {},
    "colab_type": "code",
    "id": "4kBcit_cncgW"
   },
   "outputs": [],
   "source": [
    "sns.histplot(data, x='reading', bins=50, hue='strategy')"
   ]
  },
  {
   "cell_type": "code",
   "execution_count": null,
   "metadata": {
    "colab": {},
    "colab_type": "code",
    "id": "2CjnJc5Yq0wm"
   },
   "outputs": [],
   "source": [
    "sns.histplot(data, x='total', bins=50, hue='strategy')"
   ]
  },
  {
   "cell_type": "code",
   "execution_count": null,
   "metadata": {
    "colab": {},
    "colab_type": "code",
    "id": "3UdWlaM9j3ob"
   },
   "outputs": [],
   "source": [
    "sns.boxplot(data=data, x='strategy', y='total')"
   ]
  },
  {
   "cell_type": "code",
   "execution_count": null,
   "metadata": {
    "colab": {},
    "colab_type": "code",
    "id": "s0V-wHhBm52H"
   },
   "outputs": [],
   "source": [
    "data['strategy+rt'] = data.strategy + data.runtime_type\n",
    "sns.boxplot(data=data, x='strategy+rt', y='total')"
   ]
  },
  {
   "cell_type": "code",
   "execution_count": null,
   "metadata": {
    "colab": {},
    "colab_type": "code",
    "id": "1g8is2YM5D4U"
   },
   "outputs": [],
   "source": [
    "def parse_second_time(strategy='gdrive'):\n",
    "  file_opening = list()\n",
    "  file_reading = list()\n",
    "  total = list()\n",
    "  for folder_name in ['IO_profiling_output_fourth', 'IO_profiling_output_first', 'IO_profiling_output_second_gpu', 'IO_profiling_output_third_gpu']:\n",
    "    for offset in range(0,551,50):\n",
    "      filename = '/content/gdrive/My Drive/ML_data/' + folder_name + '/test_from_'+ strategy + '_' + str(offset) + '_t1.csv'\n",
    "      with open(filename) as f:\n",
    "        lines = f.readlines()\n",
    "      file_opening.append(\n",
    "          float([x for x in lines if 'with open' in x][0].split()[3])\n",
    "      )\n",
    "      file_reading.append(\n",
    "          float([x for x in lines if 'content =' in x][0].split()[3])\n",
    "      )\n",
    "      total.append(\n",
    "          float([x for x in lines if 'Total time' in x][0].split()[2])\n",
    "      )\n",
    "  return file_opening, file_reading, total"
   ]
  },
  {
   "cell_type": "code",
   "execution_count": null,
   "metadata": {
    "colab": {},
    "colab_type": "code",
    "id": "XInmcrhP5Dvf"
   },
   "outputs": [],
   "source": [
    "gdrive_opening, gdrive_reading, gdrive_total = parse_second_time('gdrive')\n",
    "strategy = ['gdrive']*len(gdrive_opening)\n",
    "fuse_opening, fuse_reading, fuse_total = parse_second_time('gcsfuse')\n",
    "strategy.extend(['gcsfuse']*len(fuse_opening))\n",
    "api_opening, api_reading, api_total = parse_second_time('storage_api')\n",
    "strategy.extend(['api']*len(api_opening))\n",
    "\n",
    "data_second_time = pd.DataFrame(\n",
    "    dict(\n",
    "         strategy=strategy,\n",
    "         opening=gdrive_opening + fuse_opening + api_opening,\n",
    "         reading=gdrive_reading + fuse_reading + api_reading,\n",
    "         total=gdrive_total + fuse_total + api_total\n",
    "    )\n",
    ")"
   ]
  },
  {
   "cell_type": "code",
   "execution_count": null,
   "metadata": {
    "colab": {},
    "colab_type": "code",
    "id": "F8uxC_Ez5DoU"
   },
   "outputs": [],
   "source": [
    "sns.histplot(data_second_time, x='opening', bins=50, hue='strategy')"
   ]
  },
  {
   "cell_type": "code",
   "execution_count": null,
   "metadata": {
    "colab": {},
    "colab_type": "code",
    "id": "LuZoDUxT5DgL"
   },
   "outputs": [],
   "source": [
    "sns.histplot(data_second_time, x='reading', bins=50, hue='strategy')"
   ]
  },
  {
   "cell_type": "code",
   "execution_count": null,
   "metadata": {
    "colab": {},
    "colab_type": "code",
    "id": "sxCgM5dk5DYS"
   },
   "outputs": [],
   "source": [
    "sns.histplot(data_second_time, x='total', bins=50, hue='strategy')"
   ]
  },
  {
   "cell_type": "code",
   "execution_count": null,
   "metadata": {
    "colab": {},
    "colab_type": "code",
    "id": "0yi2Wz4q5DO3"
   },
   "outputs": [],
   "source": []
  },
  {
   "cell_type": "code",
   "execution_count": null,
   "metadata": {
    "colab": {},
    "colab_type": "code",
    "id": "R1OcRBNr5CSK"
   },
   "outputs": [],
   "source": []
  },
  {
   "cell_type": "code",
   "execution_count": null,
   "metadata": {
    "colab": {},
    "colab_type": "code",
    "id": "RjqpRext5ChF"
   },
   "outputs": [],
   "source": []
  },
  {
   "cell_type": "code",
   "execution_count": null,
   "metadata": {
    "colab": {},
    "colab_type": "code",
    "id": "1-kT57A8jOou"
   },
   "outputs": [],
   "source": []
  },
  {
   "cell_type": "code",
   "execution_count": null,
   "metadata": {
    "colab": {},
    "colab_type": "code",
    "id": "ejjymteKjOya"
   },
   "outputs": [],
   "source": []
  },
  {
   "cell_type": "code",
   "execution_count": null,
   "metadata": {
    "colab": {},
    "colab_type": "code",
    "id": "TbE6OFRujO6Z"
   },
   "outputs": [],
   "source": [
    "!ls \"gdrive/My Drive/ML_data\""
   ]
  },
  {
   "cell_type": "code",
   "execution_count": null,
   "metadata": {
    "colab": {},
    "colab_type": "code",
    "id": "sP7Wa9xMVdhZ"
   },
   "outputs": [],
   "source": []
  },
  {
   "cell_type": "code",
   "execution_count": null,
   "metadata": {
    "colab": {},
    "colab_type": "code",
    "id": "7pcMTe-tI-Ku"
   },
   "outputs": [],
   "source": []
  }
 ],
 "metadata": {
  "colab": {
   "collapsed_sections": [
    "UylqEN0yZbw6",
    "CmsdcLh_fmVr"
   ],
   "name": "IO_bench.ipynb",
   "provenance": []
  },
  "kernelspec": {
   "display_name": "Python 3",
   "language": "python",
   "name": "python3"
  },
  "language_info": {
   "codemirror_mode": {
    "name": "ipython",
    "version": 3
   },
   "file_extension": ".py",
   "mimetype": "text/x-python",
   "name": "python",
   "nbconvert_exporter": "python",
   "pygments_lexer": "ipython3",
   "version": "3.7.4"
  }
 },
 "nbformat": 4,
 "nbformat_minor": 1
}
