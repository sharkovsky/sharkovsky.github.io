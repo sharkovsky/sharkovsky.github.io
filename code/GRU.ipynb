{
 "cells": [
  {
   "cell_type": "code",
   "execution_count": 1,
   "metadata": {},
   "outputs": [
    {
     "name": "stdout",
     "output_type": "stream",
     "text": [
      "sys.version_info(major=3, minor=6, micro=1, releaselevel='final', serial=0)\n",
      "1.12.1\n"
     ]
    }
   ],
   "source": [
    "import numpy as np\n",
    "import sklearn\n",
    "from sklearn.datasets import make_classification\n",
    "from sklearn.datasets import make_moons\n",
    "import matplotlib.pyplot as plt\n",
    "% matplotlib inline\n",
    "\n",
    "import sys\n",
    "print(sys.version_info)\n",
    "print(np.__version__)"
   ]
  },
  {
   "cell_type": "code",
   "execution_count": 2,
   "metadata": {
    "collapsed": true
   },
   "outputs": [],
   "source": [
    "def make_sin(n_samples=400, n_discr_points = 10):\n",
    "    x = np.arange(start=0.0, stop=2.0*np.pi, step=2.0*np.pi/n_discr_points)\n",
    "    omega = np.random.uniform(1.0, 4.0, (n_samples, x.shape[0]) )\n",
    "    return np.sin(omega*x)"
   ]
  },
  {
   "cell_type": "code",
   "execution_count": 3,
   "metadata": {
    "collapsed": true
   },
   "outputs": [],
   "source": [
    "def make_sum(n_samples=600, n_discr_points=5):\n",
    "    Y = np.random.randint(low=0,high=2,size=(n_samples,n_discr_points-1))\n",
    "    Y = np.c_[Y, np.sum(Y, axis=1)]\n",
    "    return Y"
   ]
  },
  {
   "cell_type": "code",
   "execution_count": 4,
   "metadata": {},
   "outputs": [
    {
     "name": "stdout",
     "output_type": "stream",
     "text": [
      "(600, 8)\n"
     ]
    }
   ],
   "source": [
    "n_samples = 600\n",
    "n_discr_points = 8\n",
    "y = make_sum(n_samples, n_discr_points)\n",
    "print (y.shape)"
   ]
  },
  {
   "cell_type": "code",
   "execution_count": 5,
   "metadata": {},
   "outputs": [
    {
     "name": "stdout",
     "output_type": "stream",
     "text": [
      "(402, 8)\n",
      "(198, 8)\n"
     ]
    }
   ],
   "source": [
    "from sklearn.model_selection import train_test_split\n",
    "y_train, y_test = train_test_split( y, test_size=0.33, random_state=42 )\n",
    "print(y_train.shape)\n",
    "print(y_test.shape)"
   ]
  },
  {
   "cell_type": "code",
   "execution_count": 6,
   "metadata": {
    "collapsed": true
   },
   "outputs": [],
   "source": [
    "n_hidden_neurons = [8,5]\n",
    "n_hidden_layers = len(n_hidden_neurons)\n",
    "nlayers = n_hidden_layers+2"
   ]
  },
  {
   "cell_type": "code",
   "execution_count": 7,
   "metadata": {
    "collapsed": true
   },
   "outputs": [],
   "source": [
    "unroll_factor = n_discr_points - 1"
   ]
  },
  {
   "cell_type": "code",
   "execution_count": 8,
   "metadata": {
    "collapsed": true
   },
   "outputs": [],
   "source": [
    "class MeanSquareError():\n",
    "        \n",
    "    def error(self, y, a):\n",
    "        return (a-y)**2\n",
    "    \n",
    "    def derror(self,a, y):\n",
    "        return 2*(a-y)"
   ]
  },
  {
   "cell_type": "code",
   "execution_count": 9,
   "metadata": {
    "collapsed": true
   },
   "outputs": [],
   "source": [
    "def sigmoid(z):\n",
    "    return 1.0/(1.0 + np.exp(-z))"
   ]
  },
  {
   "cell_type": "code",
   "execution_count": 10,
   "metadata": {
    "collapsed": true
   },
   "outputs": [],
   "source": [
    "class InputLayer():\n",
    "    def __init__(self, n=2):\n",
    "        self.z = np.zeros(shape=(n,1))\n",
    "        self.N = n\n",
    "    def forward(self, x):\n",
    "        self.z = np.array(x).reshape(self.N, 1)\n",
    "        return x\n",
    "    def last_activ(self):\n",
    "        return self.z"
   ]
  },
  {
   "cell_type": "code",
   "execution_count": 11,
   "metadata": {
    "collapsed": true
   },
   "outputs": [],
   "source": [
    "class OutputLayer():\n",
    "    def __init__(self, n=1, nprev=5, cost=MeanSquareError() ):\n",
    "        self.N = n\n",
    "        self.Nprev = nprev\n",
    "        \n",
    "        self.z = np.zeros(shape=(n,1))\n",
    "        \n",
    "        self.b = np.random.uniform(low=0., high=1., size=(n,1))\n",
    "        self.bupdates = np.zeros_like(self.b)\n",
    "        \n",
    "        # W represents the matrix of weights from the PREVIOUS layer to THIS layer\n",
    "        self.W = np.random.uniform(low=0., high=1., size=(n,nprev))\n",
    "        self.Wupdates = np.zeros_like(self.W)\n",
    "        \n",
    "        self.cost_ = cost\n",
    "        \n",
    "    def forward(self, x, tt=0):\n",
    "        self.z = (self.W @ x).reshape(self.N,1) + self.b\n",
    "        return self.z\n",
    "    \n",
    "    def last_activ(self):\n",
    "        return self.z\n",
    "    \n",
    "    def backward(self, y):\n",
    "        return self.cost_.derror(self.z,y)\n",
    "    \n",
    "    def update(self):\n",
    "        self.b -= self.bupdates\n",
    "        self.W -= self.Wupdates\n",
    "        self.bupdates = np.zeros_like(self.b)\n",
    "        self.Wupdates = np.zeros_like(self.W)"
   ]
  },
  {
   "cell_type": "code",
   "execution_count": 20,
   "metadata": {
    "collapsed": true
   },
   "outputs": [],
   "source": [
    "class RecurrentGRULayer():\n",
    "    def __init__(self, n=5, nprev=5, unroll_fac=1):\n",
    "        self.N = n\n",
    "        self.Nprev = nprev\n",
    "        self.unroll_ = unroll_fac\n",
    "        \n",
    "        # there are (unroll_fac + 1) values because of the fake initialized values\n",
    "        self.z = np.zeros(shape=(n,1,unroll_fac+1))\n",
    "        self.r = np.zeros(shape=(n,1,unroll_fac+1))\n",
    "        self.g = np.zeros(shape=(n,1,unroll_fac+1))\n",
    "        self.h = np.random.uniform(low=0., high=1., size=(n,1,unroll_fac+1) )\n",
    "        \n",
    "        self.Wz = np.random.uniform(low=0., high=1., size=(n,n))\n",
    "        self.Uz = np.random.uniform(low=0., high=1., size=(n,nprev))\n",
    "        self.Wr = np.random.uniform(low=0., high=1., size=(n,n))\n",
    "        self.Ur = np.random.uniform(low=0., high=1., size=(n,nprev))\n",
    "        self.Wg = np.random.uniform(low=0., high=1., size=(n,n))\n",
    "        self.Ug = np.random.uniform(low=0., high=1., size=(n,nprev))\n",
    "        \n",
    "        self.Wzupdates = np.zeros_like(self.Wz)\n",
    "        self.Uzupdates = np.zeros_like(self.Uz)\n",
    "        self.Wrupdates = np.zeros_like(self.Wr)\n",
    "        self.Urupdates = np.zeros_like(self.Ur)\n",
    "        self.Wgupdates = np.zeros_like(self.Wg)\n",
    "        self.Ugupdates = np.zeros_like(self.Ug)\n",
    "        \n",
    "        self.deltah = np.zeros_like(self.h)\n",
    "        \n",
    "        \n",
    "    def re_init(self):        \n",
    "        self.z = np.zeros(shape=(self.N,1,self.unroll_+1))\n",
    "        self.r = np.zeros(shape=(self.N,1,self.unroll_+1))\n",
    "        self.g = np.zeros(shape=(self.N,1,self.unroll_+1))\n",
    "        self.h = np.random.uniform(low=0., high=1., size=(self.N,1,self.unroll_+1) )\n",
    "        \n",
    "    def forward(self, x, tt):\n",
    "        \n",
    "        x = np.array([x])\n",
    "        x = x.reshape(self.Nprev, 1)\n",
    "        \n",
    "        self.z[:,:,tt+1] = sigmoid( self.Wz @ self.h[:,:,tt] + self.Uz @ x)\n",
    "        self.r[:,:,tt+1] = sigmoid( self.Wr @ self.h[:,:,tt] + self.Ur @ x)\n",
    "        self.g[:,:,tt+1] = np.tanh( self.Wg @ (self.r[:,:,tt+1] * self.h[:,:,tt] )\\\n",
    "                                    + self.Ug @ x)\n",
    "        self.h[:,:,tt+1] = ( 1. - self.z[:,:,tt+1] ) * self.h[:,:,tt] \\\n",
    "                              + self.z[:,:,tt+1] * self.g[:,:,tt+1]\n",
    "        \n",
    "        return self.h[:,:,tt+1]\n",
    "    \n",
    "    def last_activ(self):\n",
    "        return self.h[:,:,-1]\n",
    "    \n",
    "    def backward(self, tt, deltaX):\n",
    "        \"\"\"backward returns intermediate deltas and total deltas\"\"\"\n",
    "        delta = deltaX + self.deltah[:,:,tt+1]\n",
    "        delta = delta.reshape(self.N, 1)\n",
    "        delta_g = delta*self.z[:,:,tt+1]*(1. - self.g[:,:,tt+1]**2)\n",
    "        delta_r = delta_g*(self.Wg.T @ self.h[:,:,tt])*\\\n",
    "                             self.r[:,:,tt+1]*(1. - self.r[:,:,tt+1])\n",
    "        delta_z = delta*(self.g[:,:,tt+1] - self.h[:,:,tt])*\\\n",
    "                      self.z[:,:,tt+1]*(1. - self.z[:,:,tt+1])\n",
    "        delta_x = self.Ug.T @ delta_g +\\\n",
    "                  self.Ur.T @ delta_r +\\\n",
    "                  self.Uz.T @ delta_z\n",
    "        self.deltah[:,:,tt] = self.Wg.T @ delta_g +\\\n",
    "                  self.Wr.T @ delta_r +\\\n",
    "                  self.Wz.T @ delta_z\n",
    "        return delta_g, delta_r, delta_z, delta_x                         \n",
    "    \n",
    "    def update(self):\n",
    "        self.Wz -= self.Wzupdates\n",
    "        self.Uz -= self.Uzupdates\n",
    "        self.Wg -= self.Wgupdates\n",
    "        self.Ug -= self.Ugupdates\n",
    "        self.Wr -= self.Wrupdates\n",
    "        self.Ur -= self.Urupdates\n",
    "        self.Wzupdates = np.zeros_like(self.Wz)\n",
    "        self.Uzupdates = np.zeros_like(self.Uz)\n",
    "        self.Wrupdates = np.zeros_like(self.Wr)\n",
    "        self.Urupdates = np.zeros_like(self.Ur)\n",
    "        self.Wgupdates = np.zeros_like(self.Wg)\n",
    "        self.Ugupdates = np.zeros_like(self.Ug)\n",
    "        self.deltah = np.zeros_like(self.h)"
   ]
  },
  {
   "cell_type": "code",
   "execution_count": 27,
   "metadata": {},
   "outputs": [
    {
     "name": "stdout",
     "output_type": "stream",
     "text": [
      "1\n",
      "0\n"
     ]
    }
   ],
   "source": [
    "## TEST GRU forward\n",
    "gru = RecurrentGRULayer(3,2,2)\n",
    "gru2 = RecurrentGRULayer(3,3,2)\n",
    "x_in = np.array([0.5, 0.5]).reshape(1,2)\n",
    "for t in range(2):\n",
    "    h = gru.forward(x_in,t)\n",
    "    h2 = gru2.forward(h,t)\n",
    "## TEST GRU backward\n",
    "for t in range(1,-1,-1):\n",
    "    print(t)\n",
    "    delta_x = np.array([0.1,0.5,0.1]).reshape(3,1)\n",
    "    delta_g, delta_r, delta_z, delta_x = gru2.backward(t,delta_x)\n",
    "    gru2.Wgupdates += np.outer(delta_g, gru2.h[:,:,t])\n",
    "    gru2.Wrupdates += np.outer(delta_r, gru2.h[:,:,t])\n",
    "    gru2.Wzupdates += np.outer(delta_z, gru2.h[:,:,t])\n",
    "    gru2.Ugupdates += np.outer(delta_g, gru.h[:,:,t+1])\n",
    "    gru2.Urupdates += np.outer(delta_r, gru.h[:,:,t+1])\n",
    "    gru2.Uzupdates += np.outer(delta_z, gru.h[:,:,t+1])\n",
    "    delta_g, delta_r, delta_z, delta_x = gru.backward(t,delta_x)\n",
    "    gru.Wgupdates += np.outer(delta_g, gru.h[:,:,t])\n",
    "    gru.Wrupdates += np.outer(delta_r, gru.h[:,:,t])\n",
    "    gru.Wzupdates += np.outer(delta_z, gru.h[:,:,t])\n",
    "    gru.Ugupdates += np.outer(delta_g, x_in)\n",
    "    gru.Urupdates += np.outer(delta_r, x_in)\n",
    "    gru.Uzupdates += np.outer(delta_z, x_in)\n",
    "    \n",
    "gru2.update()\n",
    "gru.update()"
   ]
  },
  {
   "cell_type": "code",
   "execution_count": 14,
   "metadata": {
    "collapsed": true
   },
   "outputs": [],
   "source": [
    "CostFunction = MeanSquareError()"
   ]
  },
  {
   "cell_type": "code",
   "execution_count": 24,
   "metadata": {},
   "outputs": [],
   "source": [
    "layers = []\n",
    "layers.append( InputLayer(1) )\n",
    "nprev = 1\n",
    "for n in n_hidden_neurons:\n",
    "    layers.append(RecurrentGRULayer(n, nprev, unroll_factor))\n",
    "    nprev = n\n",
    "layers.append(OutputLayer(1,nprev,CostFunction))"
   ]
  },
  {
   "cell_type": "code",
   "execution_count": 25,
   "metadata": {},
   "outputs": [],
   "source": [
    "alpha = 0.01\n",
    "n_epochs = 10\n",
    "\n",
    "training_error = []\n",
    "validation_error = []\n",
    "    \n",
    "for i in range(n_epochs):\n",
    "\n",
    "    errors = []\n",
    "    for idx, data_sample in enumerate(y_train):\n",
    "        \n",
    "        for l in range(1,nlayers-1):\n",
    "            layers[l].re_init()\n",
    "        \n",
    "        # feedforward\n",
    "        for t in range(unroll_factor):\n",
    "            a = layers[0].forward(data_sample[t])\n",
    "            for i in range(1,nlayers):\n",
    "                a = layers[i].forward(a,t)\n",
    "\n",
    "        # now a holds the prediction for the next value\n",
    "        # the true next value is data_sample[unroll_factor]\n",
    "        errors.append(CostFunction.error(data_sample[unroll_factor], a))\n",
    "    \n",
    "        ###########################################\n",
    "        # backprop through time\n",
    "        \n",
    "        # output layer: no time        \n",
    "        error = layers[nlayers-1].backward(data_sample[unroll_factor])\n",
    "        top_error = error        \n",
    "        layers[nlayers-1].Wupdates = \\\n",
    "            alpha*np.outer(error, layers[nlayers-2].last_activ() )\n",
    "        layers[nlayers-1].bupdates = alpha*error    \n",
    "        \n",
    "        # hidden layers: back through time\n",
    "        # but this is the last instant, so don't compute Whh update\n",
    "        delta_x = error\n",
    "        for i in range(nlayers-2,1,-1):\n",
    "            delta_g, delta_r, delta_z, delta_x = layers[i].backward(t,delta_x)\n",
    "            # in the semantics I chose, layers[i].h[:,:,t] corresponds to \n",
    "            # the activation at time (t-1)\n",
    "            layers[i].Wgupdates += np.outer(delta_g, layers[i].h[:,:,0])\n",
    "            layers[i].Wrupdates += np.outer(delta_r, layers[i].h[:,:,0]) \n",
    "            layers[i].Wzupdates += np.outer(delta_z, layers[i].h[:,:,0])\n",
    "            layers[i].Ugupdates += np.outer(delta_g, layers[i-1].h[:,:,1])\n",
    "            layers[i].Urupdates += np.outer(delta_r, layers[i-1].h[:,:,1])\n",
    "            layers[i].Uzupdates += np.outer(delta_z, layers[i-1].h[:,:,1])\n",
    "            \n",
    "        # first hidden layer: back through time \n",
    "        # but this is the last instant, so don't compute Whh update\n",
    "        delta_g, delta_r, delta_z, delta_x = layers[1].backward(t,delta_x)\n",
    "        # in the semantics I chose, layers[i].h[:,:,t] corresponds to \n",
    "        # the activation at time (t-1)\n",
    "        layers[1].Wgupdates += np.outer(delta_g, layers[1].h[:,:,0])\n",
    "        layers[1].Wrupdates += np.outer(delta_r, layers[1].h[:,:,0]) \n",
    "        layers[1].Wzupdates += np.outer(delta_z, layers[1].h[:,:,0])\n",
    "        layers[1].Ugupdates += np.outer(delta_g, layers[0].last_activ())\n",
    "        layers[1].Urupdates += np.outer(delta_r, layers[0].last_activ())\n",
    "        layers[1].Uzupdates += np.outer(delta_z, layers[0].last_activ())\n",
    "\n",
    "        \n",
    "        for t in range(unroll_factor-2,-1,-1):\n",
    "            \n",
    "            delta_x = np.zeros_like(top_error)\n",
    "       \n",
    "            for i in range(nlayers-2,1,-1):\n",
    "                delta_g, delta_r, delta_z, delta_x = layers[i].backward(t,delta_x)\n",
    "                # in the semantics I chose, layers[i].h[:,:,t] corresponds to \n",
    "                # the activation at time (t-1)\n",
    "                layers[i].Wgupdates += np.outer(delta_g, layers[i].h[:,:,t])\n",
    "                layers[i].Wrupdates += np.outer(delta_r, layers[i].h[:,:,t]) \n",
    "                layers[i].Wzupdates += np.outer(delta_z, layers[i].h[:,:,t])\n",
    "                layers[i].Ugupdates += np.outer(delta_g, layers[i-1].h[:,:,t+1])\n",
    "                layers[i].Urupdates += np.outer(delta_r, layers[i-1].h[:,:,t+1])\n",
    "                layers[i].Uzupdates += np.outer(delta_z, layers[i-1].h[:,:,t+1])\n",
    "\n",
    "                \n",
    "            # first hidden layer: back through time            \n",
    "            delta_g, delta_r, delta_z, delta_x = layers[1].backward(t,delta_x)\n",
    "            # in the semantics I chose, layers[i].h[:,:,t] corresponds to \n",
    "            # the activation at time (t-1)\n",
    "            layers[1].Wgupdates += np.outer(delta_g, layers[1].h[:,:,t])\n",
    "            layers[1].Wrupdates += np.outer(delta_r, layers[1].h[:,:,t]) \n",
    "            layers[1].Wzupdates += np.outer(delta_z, layers[1].h[:,:,t])\n",
    "            layers[1].Ugupdates += np.outer(delta_g, layers[0].last_activ())\n",
    "            layers[1].Urupdates += np.outer(delta_r, layers[0].last_activ())\n",
    "            layers[1].Uzupdates += np.outer(delta_z, layers[0].last_activ())\n",
    "\n",
    "        for i in range(1,nlayers):\n",
    "            layers[i].update()\n",
    "            \n",
    "    training_error.append(np.mean(errors))\n",
    "    \n",
    "    # validation\n",
    "    errors = []\n",
    "    for idx, data_sample in enumerate(y_test):\n",
    "        # feedforward\n",
    "        for t in range(unroll_factor):\n",
    "            a = layers[0].forward(data_sample[t])\n",
    "            for i in range(1,nlayers):\n",
    "                a = layers[i].forward(a,t)\n",
    "        errors.append(CostFunction.error(data_sample[unroll_factor], a[0]))\n",
    "    validation_error.append(np.mean(errors))"
   ]
  },
  {
   "cell_type": "code",
   "execution_count": 26,
   "metadata": {},
   "outputs": [
    {
     "data": {
      "text/plain": [
       "<matplotlib.legend.Legend at 0x7ffd78072780>"
      ]
     },
     "execution_count": 26,
     "metadata": {},
     "output_type": "execute_result"
    },
    {
     "data": {
      "image/png": "[encoded data removed]",
      "text/plain": [
       "<matplotlib.figure.Figure at 0x7ffd368aa860>"
      ]
     },
     "metadata": {},
     "output_type": "display_data"
    }
   ],
   "source": [
    "plt.figure(figsize=(12,12))\n",
    "plt.plot(range(n_epochs), training_error, '.-')\n",
    "plt.plot(range(n_epochs), validation_error, '.-')\n",
    "plt.legend(['training','validation'])"
   ]
  },
  {
   "cell_type": "code",
   "execution_count": null,
   "metadata": {
    "collapsed": true
   },
   "outputs": [],
   "source": [
    "def inference(layers, data_sample):\n",
    "    # feedforward\n",
    "    for t in range(unroll_factor):\n",
    "        a = layers[0].forward(data_sample[t])\n",
    "        for i in range(1,nlayers):\n",
    "            a = layers[i].forward(a,t)\n",
    "    return a"
   ]
  },
  {
   "cell_type": "code",
   "execution_count": null,
   "metadata": {
    "collapsed": true
   },
   "outputs": [],
   "source": [
    "for i in range(15):\n",
    "    print(y_test[i,:])\n",
    "    print(inference(layers,y_test[i,:]))"
   ]
  },
  {
   "cell_type": "code",
   "execution_count": null,
   "metadata": {
    "collapsed": true
   },
   "outputs": [],
   "source": []
  }
 ],
 "metadata": {
  "kernelspec": {
   "display_name": "Python 3",
   "language": "python",
   "name": "python3"
  },
  "language_info": {
   "codemirror_mode": {
    "name": "ipython",
    "version": 3
   },
   "file_extension": ".py",
   "mimetype": "text/x-python",
   "name": "python",
   "nbconvert_exporter": "python",
   "pygments_lexer": "ipython3",
   "version": "3.6.1"
  }
 },
 "nbformat": 4,
 "nbformat_minor": 1
}
