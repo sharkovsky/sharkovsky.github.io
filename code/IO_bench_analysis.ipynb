{
  "nbformat": 4,
  "nbformat_minor": 0,
  "metadata": {
    "colab": {
      "name": "IO_bench_analysis.ipynb",
      "provenance": [],
      "collapsed_sections": []
    },
    "kernelspec": {
      "name": "python3",
      "display_name": "Python 3"
    }
  },
  "cells": [
    {
      "cell_type": "code",
      "metadata": {
        "id": "uRYX6VKm9vpn",
        "colab_type": "code",
        "colab": {
          "base_uri": "https://localhost:8080/",
          "height": 368
        },
        "outputId": "cb5305bf-fe39-442e-8486-f0ccff5fd47a"
      },
      "source": [
        "!pip install -U seaborn"
      ],
      "execution_count": 1,
      "outputs": [
        {
          "output_type": "stream",
          "text": [
            "Collecting seaborn\n",
            "\u001b[?25l  Downloading https://files.pythonhosted.org/packages/bc/45/5118a05b0d61173e6eb12bc5804f0fbb6f196adb0a20e0b16efc2b8e98be/seaborn-0.11.0-py3-none-any.whl (283kB)\n",
            "\r\u001b[K     |█▏                              | 10kB 17.2MB/s eta 0:00:01\r\u001b[K     |██▎                             | 20kB 2.9MB/s eta 0:00:01\r\u001b[K     |███▌                            | 30kB 4.1MB/s eta 0:00:01\r\u001b[K     |████▋                           | 40kB 4.3MB/s eta 0:00:01\r\u001b[K     |█████▉                          | 51kB 3.3MB/s eta 0:00:01\r\u001b[K     |███████                         | 61kB 3.7MB/s eta 0:00:01\r\u001b[K     |████████                        | 71kB 4.0MB/s eta 0:00:01\r\u001b[K     |█████████▎                      | 81kB 4.4MB/s eta 0:00:01\r\u001b[K     |██████████▍                     | 92kB 4.5MB/s eta 0:00:01\r\u001b[K     |███████████▋                    | 102kB 4.5MB/s eta 0:00:01\r\u001b[K     |████████████▊                   | 112kB 4.5MB/s eta 0:00:01\r\u001b[K     |█████████████▉                  | 122kB 4.5MB/s eta 0:00:01\r\u001b[K     |███████████████                 | 133kB 4.5MB/s eta 0:00:01\r\u001b[K     |████████████████▏               | 143kB 4.5MB/s eta 0:00:01\r\u001b[K     |█████████████████▍              | 153kB 4.5MB/s eta 0:00:01\r\u001b[K     |██████████████████▌             | 163kB 4.5MB/s eta 0:00:01\r\u001b[K     |███████████████████▊            | 174kB 4.5MB/s eta 0:00:01\r\u001b[K     |████████████████████▉           | 184kB 4.5MB/s eta 0:00:01\r\u001b[K     |██████████████████████          | 194kB 4.5MB/s eta 0:00:01\r\u001b[K     |███████████████████████▏        | 204kB 4.5MB/s eta 0:00:01\r\u001b[K     |████████████████████████▎       | 215kB 4.5MB/s eta 0:00:01\r\u001b[K     |█████████████████████████▌      | 225kB 4.5MB/s eta 0:00:01\r\u001b[K     |██████████████████████████▋     | 235kB 4.5MB/s eta 0:00:01\r\u001b[K     |███████████████████████████▊    | 245kB 4.5MB/s eta 0:00:01\r\u001b[K     |█████████████████████████████   | 256kB 4.5MB/s eta 0:00:01\r\u001b[K     |██████████████████████████████  | 266kB 4.5MB/s eta 0:00:01\r\u001b[K     |███████████████████████████████▎| 276kB 4.5MB/s eta 0:00:01\r\u001b[K     |████████████████████████████████| 286kB 4.5MB/s \n",
            "\u001b[?25hRequirement already satisfied, skipping upgrade: scipy>=1.0 in /usr/local/lib/python3.6/dist-packages (from seaborn) (1.4.1)\n",
            "Requirement already satisfied, skipping upgrade: matplotlib>=2.2 in /usr/local/lib/python3.6/dist-packages (from seaborn) (3.2.2)\n",
            "Requirement already satisfied, skipping upgrade: pandas>=0.23 in /usr/local/lib/python3.6/dist-packages (from seaborn) (1.0.5)\n",
            "Requirement already satisfied, skipping upgrade: numpy>=1.15 in /usr/local/lib/python3.6/dist-packages (from seaborn) (1.18.5)\n",
            "Requirement already satisfied, skipping upgrade: pyparsing!=2.0.4,!=2.1.2,!=2.1.6,>=2.0.1 in /usr/local/lib/python3.6/dist-packages (from matplotlib>=2.2->seaborn) (2.4.7)\n",
            "Requirement already satisfied, skipping upgrade: kiwisolver>=1.0.1 in /usr/local/lib/python3.6/dist-packages (from matplotlib>=2.2->seaborn) (1.2.0)\n",
            "Requirement already satisfied, skipping upgrade: python-dateutil>=2.1 in /usr/local/lib/python3.6/dist-packages (from matplotlib>=2.2->seaborn) (2.8.1)\n",
            "Requirement already satisfied, skipping upgrade: cycler>=0.10 in /usr/local/lib/python3.6/dist-packages (from matplotlib>=2.2->seaborn) (0.10.0)\n",
            "Requirement already satisfied, skipping upgrade: pytz>=2017.2 in /usr/local/lib/python3.6/dist-packages (from pandas>=0.23->seaborn) (2018.9)\n",
            "Requirement already satisfied, skipping upgrade: six>=1.5 in /usr/local/lib/python3.6/dist-packages (from python-dateutil>=2.1->matplotlib>=2.2->seaborn) (1.15.0)\n",
            "Installing collected packages: seaborn\n",
            "  Found existing installation: seaborn 0.10.1\n",
            "    Uninstalling seaborn-0.10.1:\n",
            "      Successfully uninstalled seaborn-0.10.1\n",
            "Successfully installed seaborn-0.11.0\n"
          ],
          "name": "stdout"
        }
      ]
    },
    {
      "cell_type": "code",
      "metadata": {
        "id": "U0byDyXA9ftX",
        "colab_type": "code",
        "colab": {}
      },
      "source": [
        "import seaborn as sns\n",
        "import pandas as pd\n",
        "import matplotlib.pyplot as plt\n",
        "import os\n",
        "import re\n",
        "\n",
        "from google.colab import drive\n",
        "\n",
        "%matplotlib inline"
      ],
      "execution_count": 2,
      "outputs": []
    },
    {
      "cell_type": "code",
      "metadata": {
        "id": "AhRFSzGxSHDr",
        "colab_type": "code",
        "colab": {}
      },
      "source": [
        "sns.set_theme()"
      ],
      "execution_count": 3,
      "outputs": []
    },
    {
      "cell_type": "code",
      "metadata": {
        "id": "53PSXAHT9kzb",
        "colab_type": "code",
        "colab": {
          "base_uri": "https://localhost:8080/",
          "height": 35
        },
        "outputId": "82ca1bd2-da27-40ce-9a36-f239a9f791a4"
      },
      "source": [
        "drive.mount('/content/gdrive')"
      ],
      "execution_count": 4,
      "outputs": [
        {
          "output_type": "stream",
          "text": [
            "Mounted at /content/gdrive\n"
          ],
          "name": "stdout"
        }
      ]
    },
    {
      "cell_type": "code",
      "metadata": {
        "id": "LhL9GPPNGgIy",
        "colab_type": "code",
        "colab": {}
      },
      "source": [
        "code_lines_to_function = dict(\n",
        "    gdrive=dict(\n",
        "        reading='content =',\n",
        "        opening='with open',\n",
        "        total='Total time'\n",
        "    ),\n",
        "    gcsfuse=dict(\n",
        "        reading='content =',\n",
        "        opening='with open',\n",
        "        total='Total time'\n",
        "    ),\n",
        "    storage_api=dict(\n",
        "        reading='download_to_filename',\n",
        "        opening='list_blobs',\n",
        "        total='Total time'\n",
        "    ),\n",
        ")"
      ],
      "execution_count": 5,
      "outputs": []
    },
    {
      "cell_type": "code",
      "metadata": {
        "id": "lOs42uVQ9mJH",
        "colab_type": "code",
        "colab": {}
      },
      "source": [
        "def parse(strategy='gdrive'):\n",
        "  output_data = pd.DataFrame(\n",
        "      columns=[\n",
        "          'orig_folder',\n",
        "          'runtime_type',\n",
        "          'region',\n",
        "          'strategy',\n",
        "          'opening',\n",
        "          'reading',\n",
        "          'total',\n",
        "          'amount_read_in_kB',\n",
        "          'offset'                   \n",
        "  ])\n",
        "  for folder_name in os.listdir('/content/gdrive/My Drive/ML_data/'):\n",
        "    if not re.match('IO_profiling_output_', folder_name):\n",
        "      print('Skipping ' + folder_name)\n",
        "      continue\n",
        "    print('Reading ' + folder_name)\n",
        " \n",
        "    rt_type = 'gpu' if '_gpu' in folder_name else 'tpu' if '_tpu' in folder_name else 'cpu'\n",
        " \n",
        "    region = 'Unspecified'\n",
        "    try:\n",
        "      with open('/content/gdrive/My Drive/ML_data/'+ folder_name + '/region.txt', 'r') as f:\n",
        "        region = f.readlines()[0]\n",
        "    except FileNotFoundError:\n",
        "      pass\n",
        " \n",
        "    file_opening = list()\n",
        "    file_reading = list()\n",
        "    total = list()\n",
        "    amounts_read = list()\n",
        "    for offset in range(0,551,50):\n",
        "      filename = '/content/gdrive/My Drive/ML_data/'+ folder_name + '/test_from_'+ strategy + '_' + str(offset) + '_t0.csv'\n",
        "      with open(filename) as f:\n",
        "        lines = f.readlines()\n",
        "      file_opening.append(\n",
        "          float([x for x in lines if code_lines_to_function[strategy]['opening'] in x][0].split()[2])\n",
        "      )\n",
        "      file_reading.append(\n",
        "          float([x for x in lines if code_lines_to_function[strategy]['reading'] in x][0].split()[2])\n",
        "      )\n",
        "      total.append(\n",
        "          float([x for x in lines if code_lines_to_function[strategy]['total'] in x][0].split()[2])\n",
        "      )\n",
        "\n",
        "      short_strategy = strategy if strategy != 'storage_api' else 'api'\n",
        "      size_filename = '/content/gdrive/My Drive/ML_data/IO_profiling_output_twentyfourth/' + short_strategy + '-size_' + str(offset) + '.txt'\n",
        "      with open(size_filename, 'r') as f:\n",
        "        amounts_read.append(float(f.readlines()[0])*1e-3)\n",
        "\n",
        "    output_data = pd.concat((\n",
        "        output_data,                    \n",
        "        pd.DataFrame(dict(\n",
        "          orig_folder=folder_name,\n",
        "          opening=file_opening,\n",
        "          reading=file_reading,\n",
        "          total=total,\n",
        "          runtime_type=rt_type,\n",
        "          region=region,\n",
        "          strategy=strategy,\n",
        "          offset=list(range(0,551,50)),\n",
        "          second_reading=False,\n",
        "          amount_read_in_kB=amounts_read\n",
        "        ))),\n",
        "        axis=0)\n",
        "    \n",
        "    found_second_reading_files = True\n",
        "    file_opening = list()\n",
        "    file_reading = list()\n",
        "    total = list()\n",
        "    lookup_strategy = 'gdrive' # it's the same for all, but can get confusing if I have to distinguish from first reading\n",
        "    for offset in range(0,551,50):\n",
        "      filename = '/content/gdrive/My Drive/ML_data/'+ folder_name + '/test_from_'+ strategy + '_' + str(offset) + '_t1.csv'\n",
        "      try:\n",
        "        with open(filename) as f:\n",
        "          lines = f.readlines()\n",
        "      except FileNotFoundError:\n",
        "        found_second_reading_files = False\n",
        "        break\n",
        "      file_opening.append(\n",
        "          float([x for x in lines if code_lines_to_function[lookup_strategy]['opening'] in x][0].split()[2])\n",
        "      )\n",
        "      file_reading.append(\n",
        "          float([x for x in lines if code_lines_to_function[lookup_strategy]['reading'] in x][0].split()[2])\n",
        "      )\n",
        "      total.append(\n",
        "          float([x for x in lines if code_lines_to_function[lookup_strategy]['total'] in x][0].split()[2])\n",
        "      )\n",
        "\n",
        "    if found_second_reading_files:\n",
        "      output_data = pd.concat((\n",
        "          output_data,                    \n",
        "          pd.DataFrame(dict(\n",
        "            orig_folder=folder_name,\n",
        "            opening=file_opening,\n",
        "            reading=file_reading,\n",
        "            total=total,\n",
        "            runtime_type=rt_type,\n",
        "            region=region,\n",
        "            strategy=strategy,\n",
        "            offset=list(range(0,551,50)),\n",
        "            second_reading=True,\n",
        "            amount_read_in_kB=amounts_read\n",
        "          ))),\n",
        "          axis=0)\n",
        "    \n",
        "  return output_data"
      ],
      "execution_count": 18,
      "outputs": []
    },
    {
      "cell_type": "code",
      "metadata": {
        "id": "8caWUH2hF9lP",
        "colab_type": "code",
        "colab": {}
      },
      "source": [
        ""
      ],
      "execution_count": 18,
      "outputs": []
    },
    {
      "cell_type": "code",
      "metadata": {
        "id": "zokfZ7_g97bt",
        "colab_type": "code",
        "colab": {
          "base_uri": "https://localhost:8080/",
          "height": 1000
        },
        "outputId": "d6fef1a1-b28e-48f6-eb40-330d06a379cf"
      },
      "source": [
        "gdrive = parse('gdrive')\n",
        "fuse = parse('gcsfuse')\n",
        "api = parse('storage_api')\n"
      ],
      "execution_count": 19,
      "outputs": [
        {
          "output_type": "stream",
          "text": [
            "Skipping snakes-small\n",
            "Skipping snakes\n",
            "Reading IO_profiling_output_first\n",
            "Reading IO_profiling_output_second_gpu\n",
            "Reading IO_profiling_output_third_gpu\n",
            "Reading IO_profiling_output_fourth\n",
            "Reading IO_profiling_output_fifth\n",
            "Reading IO_profiling_output_sixth_gpu\n",
            "Reading IO_profiling_output_seventh\n",
            "Reading IO_profiling_output_eight_gpu\n",
            "Reading IO_profiling_output_ninth\n",
            "Reading IO_profiling_output_tenth\n",
            "Reading IO_profiling_output_eleventh_gpu\n",
            "Reading IO_profiling_output_twelfth_gpu\n",
            "Reading IO_profiling_output_thirteenth\n",
            "Reading IO_profiling_output_fourteenth\n",
            "Reading IO_profiling_output_fifteenth_gpu\n",
            "Reading IO_profiling_output_sixteenth_tpu\n",
            "Reading IO_profiling_output_seventeenth_gpu\n",
            "Reading IO_profiling_output_eighteenth\n",
            "Reading IO_profiling_output_nineteenth\n",
            "Reading IO_profiling_output_twentieth_gpu\n",
            "Reading IO_profiling_output_twentyfirst_gpu\n",
            "Reading IO_profiling_output_twentysecond_tpu\n",
            "Reading IO_profiling_output_twentythird_gpu\n",
            "Reading IO_profiling_output_twentyfourth\n",
            "Reading IO_profiling_output_twentyfifth\n",
            "Skipping IO_profiling_output\n",
            "Skipping snakes-small\n",
            "Skipping snakes\n",
            "Reading IO_profiling_output_first\n",
            "Reading IO_profiling_output_second_gpu\n",
            "Reading IO_profiling_output_third_gpu\n",
            "Reading IO_profiling_output_fourth\n",
            "Reading IO_profiling_output_fifth\n",
            "Reading IO_profiling_output_sixth_gpu\n",
            "Reading IO_profiling_output_seventh\n",
            "Reading IO_profiling_output_eight_gpu\n",
            "Reading IO_profiling_output_ninth\n",
            "Reading IO_profiling_output_tenth\n",
            "Reading IO_profiling_output_eleventh_gpu\n",
            "Reading IO_profiling_output_twelfth_gpu\n",
            "Reading IO_profiling_output_thirteenth\n",
            "Reading IO_profiling_output_fourteenth\n",
            "Reading IO_profiling_output_fifteenth_gpu\n",
            "Reading IO_profiling_output_sixteenth_tpu\n",
            "Reading IO_profiling_output_seventeenth_gpu\n",
            "Reading IO_profiling_output_eighteenth\n",
            "Reading IO_profiling_output_nineteenth\n",
            "Reading IO_profiling_output_twentieth_gpu\n",
            "Reading IO_profiling_output_twentyfirst_gpu\n",
            "Reading IO_profiling_output_twentysecond_tpu\n",
            "Reading IO_profiling_output_twentythird_gpu\n",
            "Reading IO_profiling_output_twentyfourth\n",
            "Reading IO_profiling_output_twentyfifth\n",
            "Skipping IO_profiling_output\n",
            "Skipping snakes-small\n",
            "Skipping snakes\n",
            "Reading IO_profiling_output_first\n",
            "Reading IO_profiling_output_second_gpu\n",
            "Reading IO_profiling_output_third_gpu\n",
            "Reading IO_profiling_output_fourth\n",
            "Reading IO_profiling_output_fifth\n",
            "Reading IO_profiling_output_sixth_gpu\n",
            "Reading IO_profiling_output_seventh\n",
            "Reading IO_profiling_output_eight_gpu\n",
            "Reading IO_profiling_output_ninth\n",
            "Reading IO_profiling_output_tenth\n",
            "Reading IO_profiling_output_eleventh_gpu\n",
            "Reading IO_profiling_output_twelfth_gpu\n",
            "Reading IO_profiling_output_thirteenth\n",
            "Reading IO_profiling_output_fourteenth\n",
            "Reading IO_profiling_output_fifteenth_gpu\n",
            "Reading IO_profiling_output_sixteenth_tpu\n",
            "Reading IO_profiling_output_seventeenth_gpu\n",
            "Reading IO_profiling_output_eighteenth\n",
            "Reading IO_profiling_output_nineteenth\n",
            "Reading IO_profiling_output_twentieth_gpu\n",
            "Reading IO_profiling_output_twentyfirst_gpu\n",
            "Reading IO_profiling_output_twentysecond_tpu\n",
            "Reading IO_profiling_output_twentythird_gpu\n",
            "Reading IO_profiling_output_twentyfourth\n",
            "Reading IO_profiling_output_twentyfifth\n",
            "Skipping IO_profiling_output\n"
          ],
          "name": "stdout"
        }
      ]
    },
    {
      "cell_type": "code",
      "metadata": {
        "id": "23tL_dCQKMjb",
        "colab_type": "code",
        "colab": {}
      },
      "source": [
        "data = pd.concat((gdrive, fuse, api))"
      ],
      "execution_count": 20,
      "outputs": []
    },
    {
      "cell_type": "code",
      "metadata": {
        "id": "Vbao41CIuZh4",
        "colab_type": "code",
        "colab": {}
      },
      "source": [
        "data['opening [sec]'] = data.opening*1e-6"
      ],
      "execution_count": 21,
      "outputs": []
    },
    {
      "cell_type": "code",
      "metadata": {
        "id": "FZmaVJq4E0Ux",
        "colab_type": "code",
        "colab": {}
      },
      "source": [
        "data['read_bw_in_MB_per_sec'] = 1e-3*data.amount_read_in_kB/(data.reading*1e-6)\n",
        "data['MB_processed_per_sec'] = 1e-3*data.amount_read_in_kB/(data.total)"
      ],
      "execution_count": 22,
      "outputs": []
    },
    {
      "cell_type": "code",
      "metadata": {
        "id": "TgwYihtrMl4L",
        "colab_type": "code",
        "colab": {
          "base_uri": "https://localhost:8080/",
          "height": 515
        },
        "outputId": "378215cd-e313-40fe-e41f-c0f377d19957"
      },
      "source": [
        "sns.set_context('paper', font_scale=1.5)\n",
        "with sns.axes_style(\"ticks\", rc={'axes.facecolor': '#eeeeff',\n",
        "                                 'figure.facecolor':'#fdfdfd',\n",
        "                                 'axes.grid': True, \n",
        "                                 'font.sans-serif': 'BlinkMacSystemFont'}):\n",
        "  fig, axs = plt.subplots(2,1, figsize=(12,8))\n",
        "  sns.boxplot(data=data[data.second_reading == False], y='strategy', x='MB_processed_per_sec', ax=axs[0], palette='Set2')\n",
        "  sns.boxplot(data=data[data.second_reading], y='strategy', x='MB_processed_per_sec', ax=axs[1], palette='Set2')\n",
        "\n",
        "  axs[0].set_xlabel('')\n",
        "  axs[0].set_ylabel('First Read')\n",
        "  axs[1].set_ylabel('Second Read')\n",
        "\n",
        "  axs[0].set_yticklabels(['GDrive', 'GCSFuse', 'GCS Manual'])\n",
        "  axs[1].set_yticklabels(['GDrive', 'GCSFuse', 'GCS Manual'])\n",
        "\n",
        "\n",
        "  sns.despine(offset=10, trim=True)"
      ],
      "execution_count": 23,
      "outputs": [
        {
          "output_type": "display_data",
          "data": {
            "image/png": "[encoded data removed]",
            "text/plain": [
              "<Figure size 864x576 with 2 Axes>"
            ]
          },
          "metadata": {
            "tags": []
          }
        }
      ]
    },
    {
      "cell_type": "code",
      "metadata": {
        "id": "cVfQuoSxu3uL",
        "colab_type": "code",
        "colab": {
          "base_uri": "https://localhost:8080/",
          "height": 515
        },
        "outputId": "917757c2-84dd-45ca-aa10-25cbcb901940"
      },
      "source": [
        "sns.set_context('paper', font_scale=1.5)\n",
        "with sns.axes_style(\"ticks\", rc={'axes.facecolor': '#eeeeff',\n",
        "                                 'figure.facecolor':'#fdfdfd',\n",
        "                                 'axes.grid': True, \n",
        "                                 'font.sans-serif': 'BlinkMacSystemFont'}):\n",
        "  fig, axs = plt.subplots(2,1, figsize=(12,8))\n",
        "  sns.boxplot(data=data[data.second_reading == False], y='strategy', x='read_bw_in_MB_per_sec',\n",
        "                 ax=axs[0], palette='Set2')\n",
        "  sns.boxplot(data=data[data.second_reading], y='strategy', x='read_bw_in_MB_per_sec',\n",
        "                 ax=axs[1], palette='Set2')\n",
        "\n",
        "  axs[0].set_xlabel('')\n",
        "  axs[0].set_ylabel('First Read')\n",
        "  axs[1].set_ylabel('Second Read')\n",
        "\n",
        "  axs[0].set_yticklabels(['GDrive', 'GCSFuse', 'GCS Manual'])\n",
        "  axs[1].set_yticklabels(['GDrive', 'GCSFuse', 'GCS Manual'])\n",
        "\n",
        "\n",
        "  sns.despine(offset=10, trim=True)"
      ],
      "execution_count": 24,
      "outputs": [
        {
          "output_type": "display_data",
          "data": {
            "image/png": "[encoded data removed]",
            "text/plain": [
              "<Figure size 864x576 with 2 Axes>"
            ]
          },
          "metadata": {
            "tags": []
          }
        }
      ]
    },
    {
      "cell_type": "code",
      "metadata": {
        "id": "JcJXaUu2q11z",
        "colab_type": "code",
        "colab": {}
      },
      "source": [
        ""
      ],
      "execution_count": null,
      "outputs": []
    },
    {
      "cell_type": "code",
      "metadata": {
        "id": "NQNo3PO3q1_E",
        "colab_type": "code",
        "colab": {}
      },
      "source": [
        ""
      ],
      "execution_count": null,
      "outputs": []
    },
    {
      "cell_type": "code",
      "metadata": {
        "id": "3gPLvpkeUzWi",
        "colab_type": "code",
        "colab": {}
      },
      "source": [
        "second_read = data[data.second_reading]"
      ],
      "execution_count": 25,
      "outputs": []
    },
    {
      "cell_type": "code",
      "metadata": {
        "id": "_wqxGUOSVSoe",
        "colab_type": "code",
        "colab": {}
      },
      "source": [
        "compare_reads = second_read.merge(data, on=['orig_folder', 'offset', 'strategy'])"
      ],
      "execution_count": 26,
      "outputs": []
    },
    {
      "cell_type": "code",
      "metadata": {
        "id": "-PbpFIXQVe_V",
        "colab_type": "code",
        "colab": {}
      },
      "source": [
        "compare_reads['ratio'] = compare_reads.MB_processed_per_sec_y/compare_reads.MB_processed_per_sec_x"
      ],
      "execution_count": 27,
      "outputs": []
    },
    {
      "cell_type": "code",
      "metadata": {
        "id": "04xONluwWOpf",
        "colab_type": "code",
        "colab": {
          "base_uri": "https://localhost:8080/",
          "height": 175
        },
        "outputId": "ac0c4a66-871a-4478-ba82-4572b935fda1"
      },
      "source": [
        "compare_reads.groupby(['strategy']).describe()['ratio']"
      ],
      "execution_count": 28,
      "outputs": [
        {
          "output_type": "execute_result",
          "data": {
            "text/html": [
              "<div>\n",
              "<style scoped>\n",
              "    .dataframe tbody tr th:only-of-type {\n",
              "        vertical-align: middle;\n",
              "    }\n",
              "\n",
              "    .dataframe tbody tr th {\n",
              "        vertical-align: top;\n",
              "    }\n",
              "\n",
              "    .dataframe thead th {\n",
              "        text-align: right;\n",
              "    }\n",
              "</style>\n",
              "<table border=\"1\" class=\"dataframe\">\n",
              "  <thead>\n",
              "    <tr style=\"text-align: right;\">\n",
              "      <th></th>\n",
              "      <th>count</th>\n",
              "      <th>mean</th>\n",
              "      <th>std</th>\n",
              "      <th>min</th>\n",
              "      <th>25%</th>\n",
              "      <th>50%</th>\n",
              "      <th>75%</th>\n",
              "      <th>max</th>\n",
              "    </tr>\n",
              "    <tr>\n",
              "      <th>strategy</th>\n",
              "      <th></th>\n",
              "      <th></th>\n",
              "      <th></th>\n",
              "      <th></th>\n",
              "      <th></th>\n",
              "      <th></th>\n",
              "      <th></th>\n",
              "      <th></th>\n",
              "    </tr>\n",
              "  </thead>\n",
              "  <tbody>\n",
              "    <tr>\n",
              "      <th>gcsfuse</th>\n",
              "      <td>120.0</td>\n",
              "      <td>1.616295</td>\n",
              "      <td>1.533545</td>\n",
              "      <td>0.770389</td>\n",
              "      <td>0.884737</td>\n",
              "      <td>1.000000</td>\n",
              "      <td>1.0</td>\n",
              "      <td>5.438019</td>\n",
              "    </tr>\n",
              "    <tr>\n",
              "      <th>gdrive</th>\n",
              "      <td>120.0</td>\n",
              "      <td>0.502394</td>\n",
              "      <td>0.499694</td>\n",
              "      <td>0.002200</td>\n",
              "      <td>0.004476</td>\n",
              "      <td>0.506654</td>\n",
              "      <td>1.0</td>\n",
              "      <td>1.000000</td>\n",
              "    </tr>\n",
              "    <tr>\n",
              "      <th>storage_api</th>\n",
              "      <td>120.0</td>\n",
              "      <td>0.509642</td>\n",
              "      <td>0.492445</td>\n",
              "      <td>0.007947</td>\n",
              "      <td>0.021461</td>\n",
              "      <td>0.517105</td>\n",
              "      <td>1.0</td>\n",
              "      <td>1.000000</td>\n",
              "    </tr>\n",
              "  </tbody>\n",
              "</table>\n",
              "</div>"
            ],
            "text/plain": [
              "             count      mean       std  ...       50%  75%       max\n",
              "strategy                                ...                         \n",
              "gcsfuse      120.0  1.616295  1.533545  ...  1.000000  1.0  5.438019\n",
              "gdrive       120.0  0.502394  0.499694  ...  0.506654  1.0  1.000000\n",
              "storage_api  120.0  0.509642  0.492445  ...  0.517105  1.0  1.000000\n",
              "\n",
              "[3 rows x 8 columns]"
            ]
          },
          "metadata": {
            "tags": []
          },
          "execution_count": 28
        }
      ]
    },
    {
      "cell_type": "code",
      "metadata": {
        "id": "I8AAau7WYDcA",
        "colab_type": "code",
        "colab": {}
      },
      "source": [
        ""
      ],
      "execution_count": null,
      "outputs": []
    },
    {
      "cell_type": "code",
      "metadata": {
        "id": "YIIuYz-DaOL7",
        "colab_type": "code",
        "colab": {}
      },
      "source": [
        "data['macro_region'] = None\n",
        "data['macro_region'] = data.region.str.split(pat=':', expand=True)"
      ],
      "execution_count": 29,
      "outputs": []
    },
    {
      "cell_type": "code",
      "metadata": {
        "id": "QnqABvd1aidE",
        "colab_type": "code",
        "colab": {
          "base_uri": "https://localhost:8080/",
          "height": 758
        },
        "outputId": "ea3e00f6-326b-45f7-e67a-a79a22103160"
      },
      "source": [
        "sns.set_context('paper', font_scale=1.5)\n",
        "with sns.axes_style(\"ticks\", rc={'axes.facecolor': '#eeeeff',\n",
        "                                 'figure.facecolor':'#fdfdfd',\n",
        "                                 'axes.grid': True, \n",
        "                                 'font.sans-serif': 'BlinkMacSystemFont'}):\n",
        "  fig, axs = plt.subplots(3,1, figsize=(14,11))\n",
        "  fig.suptitle('First read')\n",
        "  sns.boxplot(data=data[(data.macro_region != 'Unspecified') & (data.strategy == 'gdrive') & (data.second_reading == False)],\n",
        "              y='macro_region', x='read_bw_in_MB_per_sec', ax=axs[0], palette='Set2')\n",
        "  sns.boxplot(data=data[(data.macro_region != 'Unspecified') & (data.strategy == 'gcsfuse') & (data.second_reading == False)],\n",
        "              y='macro_region', x='read_bw_in_MB_per_sec', ax=axs[1], palette='Set2')\n",
        "  sns.boxplot(data=data[(data.macro_region != 'Unspecified') & (data.strategy == 'storage_api') & (data.second_reading == False)],\n",
        "              y='macro_region', x='read_bw_in_MB_per_sec', ax=axs[2], palette='Set2')\n",
        "\n",
        "  axs[0].set_xlabel('')\n",
        "  axs[0].set_ylabel('GDrive')\n",
        "  axs[1].set_ylabel('GCSFuse')\n",
        "  axs[2].set_ylabel('GCS Manual')\n",
        "\n",
        "  axs[0].set_xlim([0., 0.71])\n",
        "  axs[1].set_xlim([0., 0.71])\n",
        "  axs[2].set_xlim([0., 0.71])\n",
        "\n",
        "  sns.despine(offset=10, trim=True)"
      ],
      "execution_count": 34,
      "outputs": [
        {
          "output_type": "display_data",
          "data": {
            "image/png": "[encoded data removed]",
            "text/plain": [
              "<Figure size 1008x792 with 3 Axes>"
            ]
          },
          "metadata": {
            "tags": []
          }
        }
      ]
    },
    {
      "cell_type": "code",
      "metadata": {
        "id": "C8d57s6Rm-T_",
        "colab_type": "code",
        "colab": {}
      },
      "source": [
        ""
      ],
      "execution_count": null,
      "outputs": []
    },
    {
      "cell_type": "code",
      "metadata": {
        "id": "4Wvaazrj2f7a",
        "colab_type": "code",
        "colab": {
          "base_uri": "https://localhost:8080/",
          "height": 758
        },
        "outputId": "0ed3720b-9fa6-45fc-9c36-a58c4ba90e09"
      },
      "source": [
        "sns.set_context('paper', font_scale=1.5)\n",
        "with sns.axes_style(\"ticks\", rc={'axes.facecolor': '#eeeeff',\n",
        "                                 'figure.facecolor':'#fdfdfd',\n",
        "                                 'axes.grid': True, \n",
        "                                 'font.sans-serif': 'BlinkMacSystemFont'}):\n",
        "  fig, axs = plt.subplots(3,1, figsize=(14,11))\n",
        "  fig.suptitle('First read')\n",
        "  sns.boxplot(data=data[(data.macro_region != 'Unspecified') & (data.strategy == 'gdrive') & (data.second_reading == False)],\n",
        "              y='runtime_type', x='read_bw_in_MB_per_sec', ax=axs[0], palette='Set2')\n",
        "  sns.boxplot(data=data[(data.macro_region != 'Unspecified') & (data.strategy == 'gcsfuse') & (data.second_reading == False)],\n",
        "              y='runtime_type', x='read_bw_in_MB_per_sec', ax=axs[1], palette='Set2')\n",
        "  sns.boxplot(data=data[(data.macro_region != 'Unspecified') & (data.strategy == 'storage_api') & (data.second_reading == False)],\n",
        "              y='runtime_type', x='read_bw_in_MB_per_sec', ax=axs[2], palette='Set2')\n",
        "\n",
        "  axs[0].set_xlabel('')\n",
        "  axs[0].set_ylabel('GDrive')\n",
        "  axs[1].set_ylabel('GCSFuse')\n",
        "  axs[2].set_ylabel('GCS Manual')\n",
        "\n",
        "  axs[0].set_xlim([0., 0.71])\n",
        "  axs[1].set_xlim([0., 0.71])\n",
        "  axs[2].set_xlim([0., 0.71])\n",
        "\n",
        "  sns.despine(offset=10, trim=True)"
      ],
      "execution_count": 36,
      "outputs": [
        {
          "output_type": "display_data",
          "data": {
            "image/png": "[encoded data removed]",
            "text/plain": [
              "<Figure size 1008x792 with 3 Axes>"
            ]
          },
          "metadata": {
            "tags": []
          }
        }
      ]
    },
    {
      "cell_type": "code",
      "metadata": {
        "id": "3GIWKFjK3L10",
        "colab_type": "code",
        "colab": {}
      },
      "source": [
        ""
      ],
      "execution_count": null,
      "outputs": []
    },
    {
      "cell_type": "code",
      "metadata": {
        "id": "KvM7zkJGUqtP",
        "colab_type": "code",
        "colab": {}
      },
      "source": [
        ""
      ],
      "execution_count": null,
      "outputs": []
    },
    {
      "cell_type": "code",
      "metadata": {
        "id": "1nqx2gO9Uq6Y",
        "colab_type": "code",
        "colab": {
          "base_uri": "https://localhost:8080/",
          "height": 424
        },
        "outputId": "335abaef-ffd0-455a-a672-d4e9db3a3c4d"
      },
      "source": [
        ""
      ],
      "execution_count": 10,
      "outputs": [
        {
          "output_type": "execute_result",
          "data": {
            "text/html": [
              "<div>\n",
              "<style scoped>\n",
              "    .dataframe tbody tr th:only-of-type {\n",
              "        vertical-align: middle;\n",
              "    }\n",
              "\n",
              "    .dataframe tbody tr th {\n",
              "        vertical-align: top;\n",
              "    }\n",
              "\n",
              "    .dataframe thead th {\n",
              "        text-align: right;\n",
              "    }\n",
              "</style>\n",
              "<table border=\"1\" class=\"dataframe\">\n",
              "  <thead>\n",
              "    <tr style=\"text-align: right;\">\n",
              "      <th></th>\n",
              "      <th>orig_folder</th>\n",
              "      <th>runtime_type</th>\n",
              "      <th>region</th>\n",
              "      <th>strategy</th>\n",
              "      <th>opening</th>\n",
              "      <th>reading</th>\n",
              "      <th>total</th>\n",
              "      <th>amount_read_in_kB</th>\n",
              "      <th>offset</th>\n",
              "      <th>second_reading</th>\n",
              "    </tr>\n",
              "  </thead>\n",
              "  <tbody>\n",
              "    <tr>\n",
              "      <th>0</th>\n",
              "      <td>IO_profiling_output_first</td>\n",
              "      <td>cpu</td>\n",
              "      <td>Unspecified</td>\n",
              "      <td>storage_api</td>\n",
              "      <td>11776.8</td>\n",
              "      <td>403453.7</td>\n",
              "      <td>20.774700</td>\n",
              "      <td>1655.888</td>\n",
              "      <td>0</td>\n",
              "      <td>False</td>\n",
              "    </tr>\n",
              "    <tr>\n",
              "      <th>1</th>\n",
              "      <td>IO_profiling_output_first</td>\n",
              "      <td>cpu</td>\n",
              "      <td>Unspecified</td>\n",
              "      <td>storage_api</td>\n",
              "      <td>2202.3</td>\n",
              "      <td>428326.6</td>\n",
              "      <td>21.640000</td>\n",
              "      <td>1665.469</td>\n",
              "      <td>50</td>\n",
              "      <td>False</td>\n",
              "    </tr>\n",
              "    <tr>\n",
              "      <th>2</th>\n",
              "      <td>IO_profiling_output_first</td>\n",
              "      <td>cpu</td>\n",
              "      <td>Unspecified</td>\n",
              "      <td>storage_api</td>\n",
              "      <td>1493.4</td>\n",
              "      <td>411729.4</td>\n",
              "      <td>20.813200</td>\n",
              "      <td>1770.673</td>\n",
              "      <td>100</td>\n",
              "      <td>False</td>\n",
              "    </tr>\n",
              "    <tr>\n",
              "      <th>3</th>\n",
              "      <td>IO_profiling_output_first</td>\n",
              "      <td>cpu</td>\n",
              "      <td>Unspecified</td>\n",
              "      <td>storage_api</td>\n",
              "      <td>1244.9</td>\n",
              "      <td>404180.4</td>\n",
              "      <td>20.460800</td>\n",
              "      <td>1690.505</td>\n",
              "      <td>150</td>\n",
              "      <td>False</td>\n",
              "    </tr>\n",
              "    <tr>\n",
              "      <th>4</th>\n",
              "      <td>IO_profiling_output_first</td>\n",
              "      <td>cpu</td>\n",
              "      <td>Unspecified</td>\n",
              "      <td>storage_api</td>\n",
              "      <td>1921.5</td>\n",
              "      <td>411496.8</td>\n",
              "      <td>21.058400</td>\n",
              "      <td>1592.848</td>\n",
              "      <td>200</td>\n",
              "      <td>False</td>\n",
              "    </tr>\n",
              "    <tr>\n",
              "      <th>...</th>\n",
              "      <td>...</td>\n",
              "      <td>...</td>\n",
              "      <td>...</td>\n",
              "      <td>...</td>\n",
              "      <td>...</td>\n",
              "      <td>...</td>\n",
              "      <td>...</td>\n",
              "      <td>...</td>\n",
              "      <td>...</td>\n",
              "      <td>...</td>\n",
              "    </tr>\n",
              "    <tr>\n",
              "      <th>7</th>\n",
              "      <td>IO_profiling_output_twentyfifth</td>\n",
              "      <td>cpu</td>\n",
              "      <td>US: Virginia</td>\n",
              "      <td>storage_api</td>\n",
              "      <td>10.8</td>\n",
              "      <td>17.2</td>\n",
              "      <td>0.377783</td>\n",
              "      <td>1688.695</td>\n",
              "      <td>350</td>\n",
              "      <td>True</td>\n",
              "    </tr>\n",
              "    <tr>\n",
              "      <th>8</th>\n",
              "      <td>IO_profiling_output_twentyfifth</td>\n",
              "      <td>cpu</td>\n",
              "      <td>US: Virginia</td>\n",
              "      <td>storage_api</td>\n",
              "      <td>10.3</td>\n",
              "      <td>19.2</td>\n",
              "      <td>0.185911</td>\n",
              "      <td>1653.434</td>\n",
              "      <td>400</td>\n",
              "      <td>True</td>\n",
              "    </tr>\n",
              "    <tr>\n",
              "      <th>9</th>\n",
              "      <td>IO_profiling_output_twentyfifth</td>\n",
              "      <td>cpu</td>\n",
              "      <td>US: Virginia</td>\n",
              "      <td>storage_api</td>\n",
              "      <td>11.1</td>\n",
              "      <td>17.6</td>\n",
              "      <td>0.243987</td>\n",
              "      <td>1647.189</td>\n",
              "      <td>450</td>\n",
              "      <td>True</td>\n",
              "    </tr>\n",
              "    <tr>\n",
              "      <th>10</th>\n",
              "      <td>IO_profiling_output_twentyfifth</td>\n",
              "      <td>cpu</td>\n",
              "      <td>US: Virginia</td>\n",
              "      <td>storage_api</td>\n",
              "      <td>10.8</td>\n",
              "      <td>15.5</td>\n",
              "      <td>0.461093</td>\n",
              "      <td>1692.417</td>\n",
              "      <td>500</td>\n",
              "      <td>True</td>\n",
              "    </tr>\n",
              "    <tr>\n",
              "      <th>11</th>\n",
              "      <td>IO_profiling_output_twentyfifth</td>\n",
              "      <td>cpu</td>\n",
              "      <td>US: Virginia</td>\n",
              "      <td>storage_api</td>\n",
              "      <td>14.6</td>\n",
              "      <td>111.7</td>\n",
              "      <td>0.533967</td>\n",
              "      <td>1756.688</td>\n",
              "      <td>550</td>\n",
              "      <td>True</td>\n",
              "    </tr>\n",
              "  </tbody>\n",
              "</table>\n",
              "<p>360 rows × 10 columns</p>\n",
              "</div>"
            ],
            "text/plain": [
              "                        orig_folder runtime_type  ... offset second_reading\n",
              "0         IO_profiling_output_first          cpu  ...      0          False\n",
              "1         IO_profiling_output_first          cpu  ...     50          False\n",
              "2         IO_profiling_output_first          cpu  ...    100          False\n",
              "3         IO_profiling_output_first          cpu  ...    150          False\n",
              "4         IO_profiling_output_first          cpu  ...    200          False\n",
              "..                              ...          ...  ...    ...            ...\n",
              "7   IO_profiling_output_twentyfifth          cpu  ...    350           True\n",
              "8   IO_profiling_output_twentyfifth          cpu  ...    400           True\n",
              "9   IO_profiling_output_twentyfifth          cpu  ...    450           True\n",
              "10  IO_profiling_output_twentyfifth          cpu  ...    500           True\n",
              "11  IO_profiling_output_twentyfifth          cpu  ...    550           True\n",
              "\n",
              "[360 rows x 10 columns]"
            ]
          },
          "metadata": {
            "tags": []
          },
          "execution_count": 10
        }
      ]
    },
    {
      "cell_type": "code",
      "metadata": {
        "id": "27kWxa0qUrcr",
        "colab_type": "code",
        "colab": {}
      },
      "source": [
        ""
      ],
      "execution_count": null,
      "outputs": []
    }
  ]
}